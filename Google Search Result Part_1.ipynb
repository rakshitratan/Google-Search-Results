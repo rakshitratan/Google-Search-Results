{
 "cells": [
  {
   "cell_type": "markdown",
   "metadata": {},
   "source": [
    "# Scraping google for title, URLs and descriptions"
   ]
  },
  {
   "cell_type": "markdown",
   "metadata": {},
   "source": [
    "Download the following libraries\n",
    "\n",
    "- for web scraping : pip install bs4 \n",
    "- for accesing URLs : pip install urllib \n",
    "- for repuesting and downloading page content: pip install request \n",
    "- to get rid of non realted articles : pip install fake-useragent \n",
    "- to automate the browser : pip install selenium a"
   ]
  },
  {
   "cell_type": "markdown",
   "metadata": {},
   "source": [
    "# Install chrome driver"
   ]
  },
  {
   "cell_type": "markdown",
   "metadata": {},
   "source": [
    "- then go to google chrome contol menu\n",
    "- go to help \n",
    "- about google chrome and check for chrome updates\n",
    "- then go to: \"https://chromedriver.chromium.org/\" and download the chrome driver as per your spesification\n",
    "- then extract the files in the same directory in which you will run the python code"
   ]
  },
  {
   "cell_type": "code",
   "execution_count": 1,
   "metadata": {},
   "outputs": [],
   "source": [
    "# Loading the Libraries:\n",
    "\n",
    "from selenium import webdriver # for search automation\n",
    "from bs4 import BeautifulSoup # for scraping webpages\n",
    "import time  \n",
    "from bs4.element import Tag"
   ]
  },
  {
   "cell_type": "markdown",
   "metadata": {},
   "source": [
    "# - Change the text in query below for running different search results:"
   ]
  },
  {
   "cell_type": "code",
   "execution_count": 2,
   "metadata": {},
   "outputs": [],
   "source": [
    "# I will be running the query on \"Data Analytics\"\n",
    "query = 'Data Analytics'"
   ]
  },
  {
   "cell_type": "markdown",
   "metadata": {},
   "source": [
    "# 1. Running the query:"
   ]
  },
  {
   "cell_type": "code",
   "execution_count": 3,
   "metadata": {},
   "outputs": [],
   "source": [
    "import urllib\n",
    "query_1 = query\n",
    "query_1 = urllib.parse.quote_plus(query) # Format into URL encoding\n",
    "number_result = 100\n",
    "\n",
    "import requests\n",
    "from fake_useragent import UserAgent\n",
    "\n",
    "ua = UserAgent()"
   ]
  },
  {
   "cell_type": "markdown",
   "metadata": {},
   "source": [
    "# 2. Definig the search criteria and values to be collected:"
   ]
  },
  {
   "cell_type": "code",
   "execution_count": 4,
   "metadata": {},
   "outputs": [
    {
     "name": "stdout",
     "output_type": "stream",
     "text": [
      "['MSc Data Analytics - Programme Details', 'Master of Science (MSc) in Data Analytics', 'Higher Diploma in Science in Data Analytics | NCI', 'Data Analytics | Athlone Institute of Technology', '17 Data Analytics courses in Ireland - Part-Time and Evening ...', 'Data Analytics Jobs on Irishjobs', 'Data Analytics Courses Dublin | MSc in Big Data Management ...', 'Data Analytics | Blackrock Further Ed Inst', 'Showing 22 Data Analytics courses in Ireland on Courses.ie', 'CIW Data Analyst (Big Data / Analytics) Course - €495 - Online ...', 'Predictive Data Analytics Course using RapidMiner for ...', 'The Analytics Institute of Ireland', 'Dublin, Ireland Data Analytics Events | Eventbrite', 'Predictive Data Analytics Diploma Course | CCT College Dublin', 'Diploma in Data Analytics for Business (Springboard+) | CCT ...', 'Insight Centre for Data Analytics', 'Big Data, Data Science and Data Analytics Training', 'Masters in Science - Data Science and Analytics | UCC', 'Data Analytics - Fitzwilliam Institute', 'Online Diploma in Data Analytics | CPA Ireland - CPA Ireland', 'Certificate in Data Analytics for Business / Business Studies ...', 'Big Data Analytics - Course Details', 'Higher Diploma in Science in Computing (Data Analytics) - GMIT', 'Data Analytics | Irish Tech News', 'Bank of Ireland Graduates - Programmes - Data Analytics', 'Ireland is chasing to keep pace with data analytics revolution', 'Data Analytics and Software Development - Higher Diploma ...', 'Big Data Analytics - What it is and why it matters | SAS Ireland', 'Management Diploma in Data Analytics for Business -', 'Computer Science—Data Analytics (MSc, full-time or part-time ...', 'Certificate in Data Analytics - Waterford Institute of Technology', 'Data and Analytics — Consulting Services | PwC Ireland', 'Data Analytics & Decision Management | First Data', \"CeADAR - Ireland's Centre for Applied AI\", 'Diploma in Data Analytics for Business ... - HEA - Springboard+', 'Data Analytics Definition - Investopedia', 'Data Analytics and Cyber Security - LIT', 'Big data and analytics – Our latest thinking | EY – Ireland', 'Data Analytics - Grant Thornton', 'What is Data Analytics? - Definition from WhatIs.com', 'MSc DATA SCIENCE AND ANALYTICS | Maynooth University', 'Data Analytics - Move faster then your competition', 'Data Analytics Jobs - January 2020 | Indeed.com', 'Data analytics | Adobe Analytics', 'Data Analytics Solutions – Infrastructure, Architecture and Big ...', 'Data Analytics and Technologies Workshop', 'Data Analytics : Fujitsu Ireland', 'Top Data Analytics Trends And Predictions For 2020 | The ...', 'in Computing with Data Analytics TA329 - Part Time Course ...', 'Purpose of Frequently used Viz — Data Science & Analytics', 'Top 6 Data Analytics Tools in 2019 - Towards Data Science', 'Information and Data Analytics | City of Dublin Education ...', 'in Data and Analytics in Financial Services Digital and ...', \"Q&A: How Molly Moon's uses data analytics to give back\", 'Placer.ai, a location data analytics startup, raises $12 million ...', 'Data & Analytics | BearingPoint Ireland', 'Cork Institute of Technology - Data Science & Analytics ... - CIT', 'What Is Data Analytics? - 4 Ways to Use Data Analytics - Lotame', 'Data Science vs. Big Data vs. Data Analytics - Simplilearn', 'Data Analytics Solutions from Zenith Technologies', 'Data Analytics - Trigraph Professional Training', 'Data Analytics Library | Society of Actuaries in Ireland', 'Data Analytics | Society of Actuaries in Ireland', 'MSc. in Computing (Data Analytics) - DIT', 'Zazzle hiring Data Analytics Developer in Cork, IE | LinkedIn', 'Data & Analytics Services | Version 1', 'Data Analytics Specialist in Dublin at Primark | Primark Careers', 'What is Data Analytics: Definition | Informatica', \"Data Analytics - QualifaX : Ireland's National Learners' Database\", '2 Data Analytics postgraduate courses in Kildare, Ireland', 'Data Analytics Business Intelligence Solutions - ProStrategy', 'Big Data Products - Big Data Analytics | Oracle Ireland', 'Data Analytics Courses | Technology Ireland ICT Skillnet', 'Data Analytics – Spanish Point Technologies Ltd.', 'Master of Science in Computing in Applied Data Science ... - ITB', 'Data analytics tools for faster, more informed ... - CORE Tech', 'Head of Business Intelligence and Data Analytics Job with ...', 'Data Analytics Jobs Cork - Morgan McKinley', 'Data Analytics - Arkphire Cloud Services', 'Business Intelligence (BI) & Data Analytics Platform', 'Computing with Data Analytics / Ríomhaireacht le ... - TU Dublin', 'Data Analytics for Business Certificate', 'Data Science and analytics | Machine learning ... - Statwolf', 'Data Analytics, Management, Security & Privacy | Research in ...', 'Data & Analytics | Pramerica', 'Data, Analytics & Science | Harvey Nash Ireland', 'Fog Data Analytics - TSSG', 'Data Analytics - GoIreland', 'Data Analyst – Data Analytics | Dublin City Centre | Eolas ...', \"Q&A: How Molly Moon's uses data analytics to give ... - Microsoft\", 'Big Data Analytics Salary | PayScale', \"Data Analysis and Data Modelling - What's the difference?\", 'Data analysis - Wikipedia', 'Improving Manufacturing with Advanced Data Analytics - Intel', '1st Data Analytics Workshop - CSO - Central Statistics Office', 'What is the advantage of big data analytics? - evolve evolve', 'My biggest confusion: Business Analytics vs. Data Analytics ...', 'Data Analytics - 4Impacts', None]\n",
      "['http://www.ucd.ie/courses/msc-data-analytics', 'https://www.dbs.ie/course/postgraduate/master-of-science-(msc)-in-data-analytics', 'https://www.ncirl.ie/Courses/Course-Details/course/HDSDA', 'https://www.ait.ie/courses/mscda', 'https://www.nightcourses.com/course-category/further-learning/business/data-analytics/', 'https://www.irishjobs.ie/Data-Analytics-Jobs', 'https://www.griffith.ie/faculties/computing/courses/msc-big-data-management-and-analytics', 'https://www.bfei.ie/courses/data-analytics', 'https://www.courses.ie/course-category/data-analytics/', 'https://www.cmit.ie/web-design-and-ecommerce-distance-learning-courses/ciw-data-analyst-digital-analytics/', 'https://www.ibat.ie/courses/predictive-data-analytics-diploma-course.html', 'https://www.analyticsinstitute.org/', 'https://www.eventbrite.ie/d/ireland--dublin/data-analytics/', 'https://www.cct.ie/course/predictive-data-analytics-diploma/', 'https://www.cct.ie/course/diploma-in-data-analytics-for-business-springboard/', 'https://www.insight-centre.org/', 'https://www.nhireland.ie/courses/business/big-data-analytics-and-data-science', 'https://www.ucc.ie/en/ckr49/', 'https://www.fitzwilliaminstitute.ie/part-time-courses/data-analytics', 'https://www.cpaireland.ie/CPD/Further-Learning-Courses/Diploma-in-Data-Analytics', 'https://www.dkit.ie/courses/school-of-business-and-humanities/business-studies/certificate-in-data-analytics-for-business.html', 'https://www.lyit.ie/CourseDetails/D202/LY_KDATA_M/BigDataAnalytics', 'https://www.gmit.ie/computer-science-and-applied-physics/higher-diploma-science-computing-data-analytics-ict', 'https://irishtechnews.ie/category/data/data-analytics/', 'https://careers.bankofireland.com/graduates/bank-of-ireland-graduates-programmes-data-analytics', 'https://www.irishexaminer.com/breakingnews/business/ireland-is-chasing-to-keep-pace-with-data-analytics-revolution-884285.html', 'https://www.ul.ie/gps/data-analytics-and-software-development-higher-diploma', 'https://www.sas.com/en_ie/insights/analytics/big-data-analytics.html', 'https://independentcolleges.ie/courses/management-diploma-in-data-analytics-for-business/', 'https://www.nuigalway.ie/courses/taught-postgraduate-courses/msc-in-computer-science-data-analytics.html', 'https://www.wit.ie/courses/certificate-in-data-analytics-postgraduate', 'https://www.pwc.ie/services/consulting/data-and-analytics.html', 'https://www.firstdata.com/en_ie/products/financial-institutions/business-intelligence-and-analytics/data-analytics-and-decision-management.html', 'https://www.ceadar.ie/', 'https://springboardcourses.ie/details/7026', 'https://www.investopedia.com/terms/d/data-analytics.asp', 'https://lit.ie/courses/LC414', 'https://www.ey.com/en_ie/big-data-analytics', 'https://www.grantthornton.ie/service/financial-services-advisory/data-analytics/', 'https://searchdatamanagement.techtarget.com/definition/data-analytics', 'https://www.maynoothuniversity.ie/study-maynooth/postgraduate-studies/courses/msc-data-science-and-analytics', 'https://cloudstrong.ie/digital-transformation/business-insights/', 'https://ie.indeed.com/Data-Analytics-jobs', 'https://www.adobe.com/ie/experience-cloud/topics/data-analytics.html', 'https://www.hpe.com/ie/en/solutions/data-analytics.html', 'https://www.charteredaccountants.ie/professional-development/specialist-qualifications/leadership', 'https://www.fujitsu.com/ie/campaigns/infrastructure-matters/data-analytics/', 'https://www.datsciawards.com/blog/top-data-analytics-trends-and-predictions-for-2020/', 'https://www.it-tallaght.ie/index.cfm/page/coursept?code=TA_KACOD_B', 'https://towardsdatascience.com/purpose-of-frequently-used-viz-data-science-analytics-6b0ec8d2c2ad', 'https://towardsdatascience.com/top-6-data-analytics-tools-in-2019-4df815ebf82c', 'http://cityofdublin.etb.ie/information-and-data-analytics/', 'https://iob.ie/programme/data-analytics', 'https://products.office.com/en-ie/business/articles/how-molly-moons-uses-data-analytics-to-give-back', 'https://techcrunch.com/2020/01/22/placer-ai-a-location-data-analytics-startup-raises-12-million-series-a/', 'https://www.bearingpoint.com/en-ie/our-expertise/capabilities/technology/data-analytics/', 'https://www.cit.ie/course/CRSDAAN9', 'https://www.lotame.com/what-is-data-analytics/', 'https://www.simplilearn.com/data-science-vs-big-data-vs-data-analytics-article', 'https://www.zenithtechnologies.com/data-analytics/', 'https://trigraph.ie/courses/DataA-Days-1-2-Data-Analytics-Foundation-2-day-course/', 'https://web.actuaries.ie/press-publications/data-analytics-library', 'https://web.actuaries.ie/category/data-analytics-10', 'https://www.dit.ie/computing/findacourse/postgraduate/postgraduatecourses/coursename160671en.html', 'https://ie.linkedin.com/jobs/view/data-analytics-developer-at-zazzle-1414691649', 'https://www.version1.com/it-service/digital-services/data-analytics/', 'https://careers.primark.com/job/dublin/data-analytics-specialist/8171/12849870', 'https://www.informatica.com/services-and-training/glossary-of-terms/data-analytics-definition.html', 'https://www.qualifax.ie/qf/QFPublic/?Mainsec=courses&Subsec=course_details&ID=102947&CSH_ID=', 'https://www.postgrad.ie/course-category/data-analytics/location/kildare/', 'https://www.prostrategy.ie/data-analytics/', 'https://www.oracle.com/ie/big-data/products.html', 'https://www.ictskillnet.ie/?training-category=data-analytics', 'https://www.spanishpoint.ie/solutions/data-analytics', 'https://www.itb.ie/StudyatITB/bn529.html', 'https://coretechnology.ie/index.php/core-business-analyitics/', 'https://execjobs.irishtimes.com/job/11029/head-of-business-intelligence-and-data-analytics/', 'https://www.morganmckinley.ie/Data-Analytics-jobs-in-Cork', 'https://www.arkphire.com/cloud/data-analytics/', 'https://looker.com/', 'https://tudublin.ie/study/undergraduate/courses/computing-with-data-analytics-tu862/', 'https://www.galwaybusinessschool.ie/programmes/data-analytics-business-certificate/', 'https://www.statwolf.com/data-science', 'https://www.dcu.ie/research/areas/Data-Analytics.shtml', 'https://www.pramerica.ie/careers/jobs/data-science/', 'https://www.harveynash.ie/data-analytics-science', 'https://www.tssg.org/research/units/fog-data-analytics/', 'https://www.goireland.in/data-analytics-course-ireland', 'https://eolas.ie/job/data-analyst-data-analytics-e6478pk/', 'https://www.microsoft.com/en-ie/microsoft-365/growth-center/resources/how-molly-moons-uses-data-analytics-to-give-back', 'https://www.payscale.com/research/IE/Skill=Big_Data_Analytics/Salary', 'https://www.ics.ie/news/view/1517', 'https://en.wikipedia.org/wiki/Data_analysis', 'https://www.intel.ie/content/www/ie/en/it-management/intel-it-best-practices/improving-manufacturing-with-advanced-data-analytics-paper.html', 'https://www.cso.ie/en/csolatestnews/eventsconferencesseminars/administrativedataseminars/1stdataanalyticsworkshop/', 'https://evolve.ie/q-and-a/what-is-the-advantage-of-big-data-analytics/', 'http://blog.educationinireland.com/my-biggest-confusion-the-difference-between-business-analytics-vs-data-analytics/', 'http://www.4impacts.com/data-analytics/', '/maps/uv?hl=en&pb=!1s0x48670931446e9f29:0x9996e7dcc8438101!3m1!7e115!4shttps://lh5.googleusercontent.com/p/AF1QipOyltAqu7Auu0R8D0SXPkhGKDJzD6zwQOBC_q08%3Dw392-h160-k-no!5sData+Analytics+-+Google+Search&imagekey=!1e10!2sAF1QipOyltAqu7Auu0R8D0SXPkhGKDJzD6zwQOBC_q08&sa=X&ved=2ahUKEwiBzdbF7qbnAhVlShUIHfGVBnkQoiowd3oECGYQBg']\n",
      "['MSc Data Analytics. Academic Year 2020/2021. Graduate Taught (level 9 nfq, credits 90). This online course will help you analyse and understand the large\\xa0...', 'dublin business school,dbs,dublin,ireland,college,university,postgraduate,ma,masters,data analytics.', 'This course will equip you to enter the world of data analytics. It will give you the technical skills in areas like statistics, programming, database management and\\xa0...', 'In order to understand the data, a range of techniques will be taught, including programming for Big Data, statistics and probabilities and the interpretation of data. Interwoven within these modules is the use of industry-standard data analytics software tools. The final pillar of the programme is analysis.', 'Data Analytics is a logical research process where one studies and evaluates data for a business. Undergoing a course in Data Analytics will improve the students knowledge and skills of large amounts of data gathered within a company.', 'Looking for Data Analytics jobs ? We have 9 for you to choose from with salaries up to 100000. Apply today.', 'Become an independent, critically-minded big data specialist with our MSc in Big Data Management and Analytics. Available full-time, this unique course aims to\\xa0...', 'On course completion, you will be in a position to take advantage of opportunities in the data analytics market. This is a rapidly growing sector in the economy\\xa0...', 'Find Data Analytics Courses available around Ireland today at Courses.ie There is a huge demand for this profession around the Business industry today.', 'CIW Data Analyst (Big Data / Analytics) Course - €495 Approved Online course, Distance course, eLearning course. QQI and ILM Accredited and Certified in\\xa0...', \"Are you looking to change your role as from 'observer' to 'strategist' and 'analyst' by applying Predictive Analytics tools and techniques to increase business\\xa0...\", \"Ireland's professional membership organisation, supporting the Data Science and Analytics Industry with events and training.\", 'Data analytics events in Dublin, Ireland ... Big Data Overview 1 Day Training in Dublin. Fri, May 1 ... Google Analytics Training Course - 1 Day Intensive, Dublin.', 'In this predictive data analytics evening course, the learner will become familiar with a suite of different leading tools available to gather information from different\\xa0...', 'The Diploma in Data Analytics for Business is designed to develop knowledge, skills and competence in Data Analytics via Springboard+ for 2019.', 'Insight Business. Visit our business team and read industry case studies. Insight & Research. Research informed by our vision: Enabling Citizens. Smarter\\xa0...', 'We have everything from short Data Analytics courses for professionals, to a range of Big Data courses from leading vendors such as Microsoft Cisco and\\xa0...', 'The MSc in Data Science & Analytics, jointly offered by the Department of Computer Science and the Department of Statistics, provides an education in the key\\xa0...', 'Yes, It is Predicted to soar 28% by 2020, data analysis is one of the most in-demand IT skills. Challenging and rewarding, data analytics is the qualitative and\\xa0...', 'Gain a high-level understanding of the main concepts associated with Data Analytics.', 'Learn how to utilise data for operational and strategic decision making in business with this 1-year accredited part-time courses delivered for free via\\xa0...', 'Our Master of Science in Computing in Big Data Analytics is a one year, full-time or two year, part-time programme. It focuses on the processes involved in\\xa0...', 'Higher Diploma in Science in Computing (Data Analytics) - ICT SKILLS/SPRINGBOARD+. Closed for Applications. Contact us at the end of May regarding\\xa0...', 'Data Analytic Trends To Watch In 2020. 2020 is just around the corner and as we are approaching the New Year, we are looking at some of… 2 months ago.', 'The Bank of Ireland Data Analytics Graduate Program is a two year Programme that works across three unique business units. Our specifically designed\\xa0...', 'Nov 9, 2018 - By Joe Dermody. IRISH companies are striving to keep pace with data analytics skills shortages while third-level colleges race to make up\\xa0...', 'The Higher Diploma in Data Analytics and Software Development course is a fulltime programme for graduates of engineering or related technology disciplines,\\xa0...', \"Big data analytics examines large amounts of data to uncover hidden patterns, correlations and other insights. With today's technology, it's possible to analyze\\xa0...\", 'Dec 19, 2019 - Independent College Dublin is now enrolling for our Management Diploma in Data Analytics for Business. Starting on February 12th, this 8\\xa0...', 'There is an acute global shortage of talent and expertise in Data Analytics and Data Science. Due to the strong demand for these graduates and the leading\\xa0...', 'Postgraduate CertificateCertificate in Data Analytics (Postgraduate). Delivery: Springboard; Level: 9; Campus: Cork Road; Duration: 1 year; Closing: 20 Dec 19\\xa0...', 'Is your business making the most of Big Data? By unlocking the potential of data and analytics, you can be more innovative, efficient and customer-centric than\\xa0...', 'Our Predictive Analytics and Decision Management Solutions enable you to effectively utilise business intelligence information to improve business strategies\\xa0...', 'CeADAR is a market-focused technology centre for innovation and applied research in AI, Machine Learning and Data Analytics across all sectors.', 'The Diploma in Data Analytics for Business is designed for learners seeking to develop their knowledge, skills and competence in the area of Data Analytics.', 'Apr 27, 2019 - Data analytics is the science of analyzing raw data in order to make conclusions about that information. Many of the techniques and processes\\xa0...', 'The aim of the programme is to produce graduates with an in-depth knowledge of the critical aspects of Data Analytics and Information Security. Learners...', 'Used the right way, data and augmented intelligence can create competitive ... Infusion means that by embedding analytics and artificial intelligence (AI) into the\\xa0...', 'The Grant Thornton Data Analytics team delivers expert solutions to these issues for clients across the banking and financial services sector.', 'Jul 31, 2019 - This definition explains the meaning of data analytics, the process for analyzing sets of data to guide business decisions and test scientific\\xa0...', 'The MSc in Data Science and Analytics is a 12 month conversion course (new in 2017) designed to give students the knowledge and skills to collect, process\\xa0...', 'CloudStrong provide data analytics services that help companies grow. We convert historical and real-time data into insights, we deliver data analytics solutions\\xa0...', '1201 Data Analytics jobs available on Indeed.com, updated hourly.', 'Learn why leveraging data analytics can be challenging and how to transform big data roadblocks into wins.', \"Wherever you're at in your data journey, start by understanding your big data challenges and learning how HPE's advanced data analytics solutions, services\\xa0...\", 'Working with the Digital Transformation team in Deloitte, we have developed this Data Analytics and Technologies Workshop to enable you to explore and learn\\xa0...', \"Let's put the real “I” back into IT. Data analytics is now firmly established as the key to competitive advantage. But some IT professionals remain confused.\", 'Jun 20, 2019 - Industries and organizations are being greatly transformed by data and analysis. The field of data analytics has seen a massive shift where\\xa0...', 'Our BSc degree in Computing has been updated for 2017-2018 to include new modules in the area of Data Analytics based on industry requirements.', '1 day ago - Working in Data analytics for more than 3 years, I can say that Data visualization plays a humongous role in providing insightful\\xa0...', 'Sep 23, 2019 - When it comes to data analytics tools, we always have questions. What is the difference between so many data analysis tools? Which is better?', 'CDETB, is recently established a Research and Data Analytics Unit, to provide for the use of data being captured in a variety of systems and for this to inform\\xa0...', 'Examine current practice pertaining to data and analytics in a financial services enterprise or unit and recommend enhancements in design and skills base to\\xa0...', \"We asked Brown how Molly Moon's does it—and how the company uses data analytics to achieve their goals. Q: Your mission is to change the world, one scoop\\xa0...\", '6 days ago - Placer.ai, a startup that analyzes location and foot traffic analytics for retailers and other businesses, announced today that it has closed a $12\\xa0...', \"BearingPoint Data 'n' Analytics helps clients use data, analytics and technology to unlock business value and leverage untapped potential.\", 'Course duration: Full-time: 3 semesters. Admission Requirements: The entry requirements for the MSc programme are. 2.1 in a Level 8 Honours degree\\xa0...', 'Sep 23, 2019 - The term data analytics refers to the process of examining datasets to draw conclusions about the information they contain to extract valuable\\xa0...', '6 days ago - This article talks about what is Big Data, what is Data Analytics, and what is Data Science. What are they? Where are they used? and Skills\\xa0...', 'Data Analytics is a diverse field with wide ranging topics from visualizations and trending, to predictive analytics and artificial intelligence...', 'This course is designed for students who are new to Data Analytics or who would like to hone/formalise their Data Analytic skills. You will have lots of hands-on,\\xa0...', 'The purpose of the Data Analytics Library is to provide practical tools and resources for actuaries wishing to develop their data analytics skills - either as part of\\xa0...', 'Event, 10/04/2019, 32nd Int. Summer School of the SAA:: Insurance Data Science: Use and Value of Unusual Data · Data Analytics. Event, 08/02/2019\\xa0...', 'MSc. in Computing (Data Analytics). Course Description. The MSc in Computing (Data Analytics) is a specialist post-graduate programme run by the Dublin\\xa0...', 'We are looking to hire a Data Analytics Developer to join our data team in Zazzle. You will take responsibility for the processes and pipelines which fuel our\\xa0...', 'Empower the right people, with the right information, at the right time with Data & Analytics. Deliver faster and better decision making.', 'Learn more about applying for Data Analytics Specialist in Dublin at Primark and apply now!', 'The definition of data analytics can be found in our guide to data integration technology nomenclature. Discover today & find solutions for tomorrow.', 'Course Name, Data Analytics. Course Provider, Fitzwilliam Institute Group. Course Code, 102947 (Assigned by Qualifax. Not an official code). Course Type\\xa0...', 'Data analytics/science is the science of extracting insight from large amounts of raw data in order to enable better understanding of the processes that created it\\xa0...', 'Data Analytics - Helping our Customer Success Stories through Business Intelligence Analytics - Contact our Data Analytics Experts.', \"Learn about Oracle's key big data products that help you integrate, manage, analyze, and apply machine learning models to all of your data. Start a big data\\xa0...\", 'ICT Skillnet run a full range of Data Analytics Courses. From short courses all the way up to Masters programmes. Explore our latest training courses here.', 'Optimize your operations with Data Analytics and Power BI. ... Make informed decisions by analysing massive amounts of data in real time, and get the insight\\xa0...', 'Data analytics, the analysis of both large and small data sets, has become a fundamental source of valuable information derived from ever increasing volumes of\\xa0...', 'Data analytics tools presents complex data in a simple and meaningful way, Business Intelligence helps identify & eliminate inefficient business processes.', '4 days ago - Head of Business Intelligence and Data Analytics in Department Head, Executive & Management with National Transport Authority.', 'Data & Analytics - Solutions Development Lead. €50k - €70k ... Digital Marketing - Data Analyst (Cork). €30k - € ... Senior Finance Development Analyst - Cork.', 'Aug 26, 2019 - Arkphire Cloud will convert historical and real-time data into insights, deliver data analytics solutions that cover data quality assurance, data\\xa0...', 'Looker is a business intelligence software and big data analytics platform that helps you explore, analyze and share real-time business analytics easily.', 'Computing with Data Analytics / Ríomhaireacht le hAnailísíocht Sonraí. < Back to Search Results. Minimum Entry Requirements?', \"The Data Analytics for Business Certificate is a part-time short programme. Find employment in digital marketing with Galway Business School's courses in\\xa0...\", \"Statwolf's data science experts use detailed analysis and cutting-edge technology to understand your data and to deliver accurate predictions and analysis.\", 'Data Analytics, Management, Security & Privacy | Research in DCUresearchData Analytics, Management, Security & Privacy.', 'Data & Analytics. Go Back. View Job ... Why choose a Data Science Career at Pramerica? To apply Data Science to the toughest problems facing the business.', 'Data, Analytics & Science | Harvey Nash Ireland. Browse our latest jobs, blogs & industry news.', 'This Fog Data Analytics team focus on developing algorithmic processes that take advantage of available computing resources to deliver the best results in\\xa0...', 'Looking for study Data Analytics in Ireland? GoIreland is the best education consultants for study MS in data analytics in Ireland, talk to our experts for getting\\xa0...', \"Apply online for Data Analyst – Data Analytics job in Dublin City Centre available on Eolas, Ireland's leading specialist IT recruitment company.\", \"Feb 22, 2019 - Molly Moon's is a local legend—a thriving and beloved ice cream company with eight locations in and around Seattle, Washington, and a\\xa0...\", 'Big Data Analytics - Salary - Get a free salary comparison based on job title, skills, experience and education. Accurate, reliable salary and compensation\\xa0...', 'Some data skills are crucial for business analysts while others are better suited to other job functions - such as data analyst, financial analyst, reporting analyst,\\xa0...', 'Jump to Analytics and business intelligence - Main article: Analytics. Analytics is the \"extensive use of data, statistical and quantitative analysis,\\xa0...', 'IT@Intel White Paper: Understanding the data life cycle allows Intel IT to protect information and solve complex problems.', 'Data Analytics Workshop. Thursday 29th September, 2016. Bedford Suite Hall, Dublin Castle, Dame St, Dublin 2. 2.00 pm – 4.30 pm. Summary. The focus of the\\xa0...', 'Big data analytics is a very important tool, which enables companies to analyse all data relating to their customers and the market sector in which they operate.', 'Dec 16, 2018 - I noticed that the difference between Business Analytics (BA) and Data Analytics (DA) was of great confusion to a lot of the students who were\\xa0...', 'Our Big Data technology will prepare Digital out of Home operators for the continuous interactions with the expected 50 billion connected devices by 2020\\xa0...', None]\n"
     ]
    }
   ],
   "source": [
    "driver = webdriver.Chrome('chromedriver')\n",
    "google_url = \"https://www.google.com/search?q=\" + query + \"&num=\" + str(number_result)\n",
    "driver.get(google_url)\n",
    "time.sleep(3)\n",
    "\n",
    "soup = BeautifulSoup(driver.page_source,'lxml')\n",
    "result_div = soup.find_all('div', attrs={'class': 'g'})\n",
    "\n",
    "\n",
    "links = []\n",
    "titles = []\n",
    "descriptions = []\n",
    "for r in result_div:\n",
    "    # Checks if each element is present, else, raise exception\n",
    "    try:\n",
    "        link = r.find('a', href=True)\n",
    "        title = None\n",
    "        title = r.find('h3')\n",
    "\n",
    "        if isinstance(title,Tag):\n",
    "            title = title.get_text()\n",
    "\n",
    "        description = None\n",
    "        description = r.find('span', attrs={'class': 'st'})\n",
    "\n",
    "        if isinstance(description, Tag):\n",
    "            description = description.get_text()\n",
    "\n",
    "        # Check to make sure everything is present before appending\n",
    "        if link != '' and title != '' and description != '':\n",
    "            links.append(link['href'])\n",
    "            titles.append(title)\n",
    "            descriptions.append(description)\n",
    "    # Next loop if one element is not present\n",
    "    except Exception as e:\n",
    "        print(e)\n",
    "        continue\n",
    "\n",
    "print(titles)\n",
    "print(links)\n",
    "print(descriptions)"
   ]
  },
  {
   "cell_type": "markdown",
   "metadata": {},
   "source": [
    "# 3. Creating a data frame for the collected data"
   ]
  },
  {
   "cell_type": "code",
   "execution_count": 5,
   "metadata": {},
   "outputs": [
    {
     "data": {
      "text/html": [
       "<div>\n",
       "<style scoped>\n",
       "    .dataframe tbody tr th:only-of-type {\n",
       "        vertical-align: middle;\n",
       "    }\n",
       "\n",
       "    .dataframe tbody tr th {\n",
       "        vertical-align: top;\n",
       "    }\n",
       "\n",
       "    .dataframe thead th {\n",
       "        text-align: right;\n",
       "    }\n",
       "</style>\n",
       "<table border=\"1\" class=\"dataframe\">\n",
       "  <thead>\n",
       "    <tr style=\"text-align: right;\">\n",
       "      <th></th>\n",
       "      <th>Title</th>\n",
       "      <th>URL</th>\n",
       "      <th>Description</th>\n",
       "    </tr>\n",
       "  </thead>\n",
       "  <tbody>\n",
       "    <tr>\n",
       "      <td>0</td>\n",
       "      <td>MSc Data Analytics - Programme Details</td>\n",
       "      <td>http://www.ucd.ie/courses/msc-data-analytics</td>\n",
       "      <td>MSc Data Analytics. Academic Year 2020/2021. G...</td>\n",
       "    </tr>\n",
       "    <tr>\n",
       "      <td>1</td>\n",
       "      <td>Master of Science (MSc) in Data Analytics</td>\n",
       "      <td>https://www.dbs.ie/course/postgraduate/master-...</td>\n",
       "      <td>dublin business school,dbs,dublin,ireland,coll...</td>\n",
       "    </tr>\n",
       "    <tr>\n",
       "      <td>2</td>\n",
       "      <td>Higher Diploma in Science in Data Analytics | NCI</td>\n",
       "      <td>https://www.ncirl.ie/Courses/Course-Details/co...</td>\n",
       "      <td>This course will equip you to enter the world ...</td>\n",
       "    </tr>\n",
       "    <tr>\n",
       "      <td>3</td>\n",
       "      <td>Data Analytics | Athlone Institute of Technology</td>\n",
       "      <td>https://www.ait.ie/courses/mscda</td>\n",
       "      <td>In order to understand the data, a range of te...</td>\n",
       "    </tr>\n",
       "    <tr>\n",
       "      <td>4</td>\n",
       "      <td>17 Data Analytics courses in Ireland - Part-Ti...</td>\n",
       "      <td>https://www.nightcourses.com/course-category/f...</td>\n",
       "      <td>Data Analytics is a logical research process w...</td>\n",
       "    </tr>\n",
       "    <tr>\n",
       "      <td>...</td>\n",
       "      <td>...</td>\n",
       "      <td>...</td>\n",
       "      <td>...</td>\n",
       "    </tr>\n",
       "    <tr>\n",
       "      <td>94</td>\n",
       "      <td>1st Data Analytics Workshop - CSO - Central St...</td>\n",
       "      <td>https://www.cso.ie/en/csolatestnews/eventsconf...</td>\n",
       "      <td>Data Analytics Workshop. Thursday 29th Septemb...</td>\n",
       "    </tr>\n",
       "    <tr>\n",
       "      <td>95</td>\n",
       "      <td>What is the advantage of big data analytics? -...</td>\n",
       "      <td>https://evolve.ie/q-and-a/what-is-the-advantag...</td>\n",
       "      <td>Big data analytics is a very important tool, w...</td>\n",
       "    </tr>\n",
       "    <tr>\n",
       "      <td>96</td>\n",
       "      <td>My biggest confusion: Business Analytics vs. D...</td>\n",
       "      <td>http://blog.educationinireland.com/my-biggest-...</td>\n",
       "      <td>Dec 16, 2018 - I noticed that the difference b...</td>\n",
       "    </tr>\n",
       "    <tr>\n",
       "      <td>97</td>\n",
       "      <td>Data Analytics - 4Impacts</td>\n",
       "      <td>http://www.4impacts.com/data-analytics/</td>\n",
       "      <td>Our Big Data technology will prepare Digital o...</td>\n",
       "    </tr>\n",
       "    <tr>\n",
       "      <td>98</td>\n",
       "      <td>None</td>\n",
       "      <td>/maps/uv?hl=en&amp;pb=!1s0x48670931446e9f29:0x9996...</td>\n",
       "      <td>None</td>\n",
       "    </tr>\n",
       "  </tbody>\n",
       "</table>\n",
       "<p>99 rows × 3 columns</p>\n",
       "</div>"
      ],
      "text/plain": [
       "                                                Title  \\\n",
       "0              MSc Data Analytics - Programme Details   \n",
       "1           Master of Science (MSc) in Data Analytics   \n",
       "2   Higher Diploma in Science in Data Analytics | NCI   \n",
       "3    Data Analytics | Athlone Institute of Technology   \n",
       "4   17 Data Analytics courses in Ireland - Part-Ti...   \n",
       "..                                                ...   \n",
       "94  1st Data Analytics Workshop - CSO - Central St...   \n",
       "95  What is the advantage of big data analytics? -...   \n",
       "96  My biggest confusion: Business Analytics vs. D...   \n",
       "97                          Data Analytics - 4Impacts   \n",
       "98                                               None   \n",
       "\n",
       "                                                  URL  \\\n",
       "0        http://www.ucd.ie/courses/msc-data-analytics   \n",
       "1   https://www.dbs.ie/course/postgraduate/master-...   \n",
       "2   https://www.ncirl.ie/Courses/Course-Details/co...   \n",
       "3                    https://www.ait.ie/courses/mscda   \n",
       "4   https://www.nightcourses.com/course-category/f...   \n",
       "..                                                ...   \n",
       "94  https://www.cso.ie/en/csolatestnews/eventsconf...   \n",
       "95  https://evolve.ie/q-and-a/what-is-the-advantag...   \n",
       "96  http://blog.educationinireland.com/my-biggest-...   \n",
       "97            http://www.4impacts.com/data-analytics/   \n",
       "98  /maps/uv?hl=en&pb=!1s0x48670931446e9f29:0x9996...   \n",
       "\n",
       "                                          Description  \n",
       "0   MSc Data Analytics. Academic Year 2020/2021. G...  \n",
       "1   dublin business school,dbs,dublin,ireland,coll...  \n",
       "2   This course will equip you to enter the world ...  \n",
       "3   In order to understand the data, a range of te...  \n",
       "4   Data Analytics is a logical research process w...  \n",
       "..                                                ...  \n",
       "94  Data Analytics Workshop. Thursday 29th Septemb...  \n",
       "95  Big data analytics is a very important tool, w...  \n",
       "96  Dec 16, 2018 - I noticed that the difference b...  \n",
       "97  Our Big Data technology will prepare Digital o...  \n",
       "98                                               None  \n",
       "\n",
       "[99 rows x 3 columns]"
      ]
     },
     "execution_count": 5,
     "metadata": {},
     "output_type": "execute_result"
    }
   ],
   "source": [
    "import pandas as pd\n",
    "\n",
    "output_dict = {'Title':titles, 'URL': links, 'Description':descriptions}\n",
    "\n",
    "output_df = pd.DataFrame(output_dict, columns = output_dict.keys())\n",
    "\n",
    "output_df"
   ]
  },
  {
   "cell_type": "code",
   "execution_count": 6,
   "metadata": {},
   "outputs": [],
   "source": [
    "# Adding a new column specifing the Searched \"query\"\n",
    "\n",
    "output_df['Brand Name'] = query\n",
    "output_df = output_df[['Brand Name', 'Title', 'URL', 'Description']]"
   ]
  },
  {
   "cell_type": "code",
   "execution_count": 7,
   "metadata": {},
   "outputs": [
    {
     "data": {
      "text/html": [
       "<div>\n",
       "<style scoped>\n",
       "    .dataframe tbody tr th:only-of-type {\n",
       "        vertical-align: middle;\n",
       "    }\n",
       "\n",
       "    .dataframe tbody tr th {\n",
       "        vertical-align: top;\n",
       "    }\n",
       "\n",
       "    .dataframe thead th {\n",
       "        text-align: right;\n",
       "    }\n",
       "</style>\n",
       "<table border=\"1\" class=\"dataframe\">\n",
       "  <thead>\n",
       "    <tr style=\"text-align: right;\">\n",
       "      <th></th>\n",
       "      <th>Brand Name</th>\n",
       "      <th>Title</th>\n",
       "      <th>URL</th>\n",
       "      <th>Description</th>\n",
       "    </tr>\n",
       "  </thead>\n",
       "  <tbody>\n",
       "    <tr>\n",
       "      <td>0</td>\n",
       "      <td>Data Analytics</td>\n",
       "      <td>MSc Data Analytics - Programme Details</td>\n",
       "      <td>http://www.ucd.ie/courses/msc-data-analytics</td>\n",
       "      <td>MSc Data Analytics. Academic Year 2020/2021. G...</td>\n",
       "    </tr>\n",
       "    <tr>\n",
       "      <td>1</td>\n",
       "      <td>Data Analytics</td>\n",
       "      <td>Master of Science (MSc) in Data Analytics</td>\n",
       "      <td>https://www.dbs.ie/course/postgraduate/master-...</td>\n",
       "      <td>dublin business school,dbs,dublin,ireland,coll...</td>\n",
       "    </tr>\n",
       "    <tr>\n",
       "      <td>2</td>\n",
       "      <td>Data Analytics</td>\n",
       "      <td>Higher Diploma in Science in Data Analytics | NCI</td>\n",
       "      <td>https://www.ncirl.ie/Courses/Course-Details/co...</td>\n",
       "      <td>This course will equip you to enter the world ...</td>\n",
       "    </tr>\n",
       "    <tr>\n",
       "      <td>3</td>\n",
       "      <td>Data Analytics</td>\n",
       "      <td>Data Analytics | Athlone Institute of Technology</td>\n",
       "      <td>https://www.ait.ie/courses/mscda</td>\n",
       "      <td>In order to understand the data, a range of te...</td>\n",
       "    </tr>\n",
       "    <tr>\n",
       "      <td>4</td>\n",
       "      <td>Data Analytics</td>\n",
       "      <td>17 Data Analytics courses in Ireland - Part-Ti...</td>\n",
       "      <td>https://www.nightcourses.com/course-category/f...</td>\n",
       "      <td>Data Analytics is a logical research process w...</td>\n",
       "    </tr>\n",
       "  </tbody>\n",
       "</table>\n",
       "</div>"
      ],
      "text/plain": [
       "       Brand Name                                              Title  \\\n",
       "0  Data Analytics             MSc Data Analytics - Programme Details   \n",
       "1  Data Analytics          Master of Science (MSc) in Data Analytics   \n",
       "2  Data Analytics  Higher Diploma in Science in Data Analytics | NCI   \n",
       "3  Data Analytics   Data Analytics | Athlone Institute of Technology   \n",
       "4  Data Analytics  17 Data Analytics courses in Ireland - Part-Ti...   \n",
       "\n",
       "                                                 URL  \\\n",
       "0       http://www.ucd.ie/courses/msc-data-analytics   \n",
       "1  https://www.dbs.ie/course/postgraduate/master-...   \n",
       "2  https://www.ncirl.ie/Courses/Course-Details/co...   \n",
       "3                   https://www.ait.ie/courses/mscda   \n",
       "4  https://www.nightcourses.com/course-category/f...   \n",
       "\n",
       "                                         Description  \n",
       "0  MSc Data Analytics. Academic Year 2020/2021. G...  \n",
       "1  dublin business school,dbs,dublin,ireland,coll...  \n",
       "2  This course will equip you to enter the world ...  \n",
       "3  In order to understand the data, a range of te...  \n",
       "4  Data Analytics is a logical research process w...  "
      ]
     },
     "execution_count": 7,
     "metadata": {},
     "output_type": "execute_result"
    }
   ],
   "source": [
    "output_df.head()"
   ]
  }
 ],
 "metadata": {
  "kernelspec": {
   "display_name": "Python 3",
   "language": "python",
   "name": "python3"
  },
  "language_info": {
   "codemirror_mode": {
    "name": "ipython",
    "version": 3
   },
   "file_extension": ".py",
   "mimetype": "text/x-python",
   "name": "python",
   "nbconvert_exporter": "python",
   "pygments_lexer": "ipython3",
   "version": "3.7.4"
  }
 },
 "nbformat": 4,
 "nbformat_minor": 2
}
