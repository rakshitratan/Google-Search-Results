{
 "cells": [
  {
   "cell_type": "markdown",
   "metadata": {},
   "source": [
    "# Scraping google for title, URLs and descriptions in defined timeperiod:"
   ]
  },
  {
   "cell_type": "markdown",
   "metadata": {},
   "source": [
    "Download the following libraries\n",
    "\n",
    "- for web scraping : pip install bs4 \n",
    "- for accesing URLs : pip install urllib \n",
    "- for repuesting and downloading page content: pip install request \n",
    "- to get rid of non realted articles : pip install fake-useragent \n",
    "- to automate the browser : pip install selenium a"
   ]
  },
  {
   "cell_type": "markdown",
   "metadata": {},
   "source": [
    "# Install chrome driver"
   ]
  },
  {
   "cell_type": "markdown",
   "metadata": {},
   "source": [
    "- then go to google chrome contol menu\n",
    "- go to help \n",
    "- about google chrome and check for chrome updates\n",
    "- then go to: \"https://chromedriver.chromium.org/\" and download the chrome driver as per your spesification\n",
    "- then extract the files in the same directory in which you will run the python code"
   ]
  },
  {
   "cell_type": "code",
   "execution_count": 1,
   "metadata": {},
   "outputs": [],
   "source": [
    "# Loading the Libraries:\n",
    "\n",
    "from selenium import webdriver # for search automation\n",
    "from bs4 import BeautifulSoup # for scraping webpages\n",
    "import time  \n",
    "from bs4.element import Tag"
   ]
  },
  {
   "cell_type": "markdown",
   "metadata": {},
   "source": [
    "# - Change the text in query below for running different search results:"
   ]
  },
  {
   "cell_type": "code",
   "execution_count": 2,
   "metadata": {},
   "outputs": [],
   "source": [
    "# I will be running the query on \"Data Analytics\"\n",
    "query = 'Data Analytics'"
   ]
  },
  {
   "cell_type": "markdown",
   "metadata": {},
   "source": [
    "# 1. Running the query:"
   ]
  },
  {
   "cell_type": "code",
   "execution_count": 3,
   "metadata": {},
   "outputs": [],
   "source": [
    "import urllib\n",
    "query_1 = query\n",
    "query_1 = urllib.parse.quote_plus(query) # Format into URL encoding\n",
    "number_result = 100\n",
    "\n",
    "import requests\n",
    "from fake_useragent import UserAgent\n",
    "\n",
    "ua = UserAgent()"
   ]
  },
  {
   "cell_type": "markdown",
   "metadata": {},
   "source": [
    "# 2. Definig the search criteria and values to be collected:\n",
    "- We will modify the URL for searches in a particular timeperiod:\n",
    "- Adding the following code in the URL: \"&tbs=cdr:1,cd_min:xx/xx/xxxx,cd_max:xx/xx/xxxx\"\n",
    "- 1. cd_min is the starting time where the format is in mm/dd/yyyy\n",
    "- 2. cd_max is the end time where the format is in mm/dd/yyyy"
   ]
  },
  {
   "cell_type": "code",
   "execution_count": 4,
   "metadata": {},
   "outputs": [
    {
     "name": "stdout",
     "output_type": "stream",
     "text": [
      "['Management Diploma in Data Analytics for Business -', 'Top 6 Data Analytics Tools in 2019 - Towards Data Science', 'What Is Data Analytics? - 4 Ways to Use Data Analytics - Lotame', 'Top Data Analytics Trends And Predictions For 2020 | The ...', 'Online Diploma in Data Analytics | CPA Ireland - CPA Ireland', 'Data Analytics Jobs on Irishjobs', 'Placer.ai, a location data analytics startup, raises $12 million ...', 'How has a career in data analytics changed? - Silicon Republic', 'Data Analytics Definition - Investopedia', 'Data Analytics and Cyber Security - LIT', 'The Analytics Institute of Ireland', 'Data Analytics Courses | Technology Ireland ICT Skillnet', 'What is Data Analytics? - Definition from WhatIs.com', 'Data Analytics Vs Business Analytics - Dublin Business School', 'Data Analytics - The Ulitmate Guide to answer your Questions', 'Insight Centre for Data Analytics', 'Diploma in Data Analytics for Business (Springboard+) | CCT ...', 'Postgraduate Diploma in Science in Data Analytics | NCI', 'Data Analytics Events - ProStrategy', 'Computing with Data Analytics / Ríomhaireacht le ... - TU Dublin', 'Application of Data Analytics in Insurance | Society of ...', 'Head of Business Intelligence and Data Analytics Job with ...', 'Data analytics firm Boxever and Ryanair sign multimillion ...', 'Diploma in Data Analytics for Business ... - HEA - Springboard+', \"What is Data Analytics? - Master's in Data Science\", 'Data analyst | gradireland', 'Data Analytics Solutions from Zenith Technologies', 'Data & Analytics | BearingPoint Ireland', 'Data analytics is rewriting the rules of engagement for sports ...', 'Certificate in Data Analytics for Business / Business Studies ...', 'Data Analytics and Application in the Energy Sector', 'Computer Science—Data Analytics (MSc, full-time or part-time ...', 'Data Analytics Is Living Up to the Hype | BizTech Magazine', 'Certificate in Data Analytics - Waterford Institute of Technology', 'in Data and Analytics in Financial Services Digital and ...', \"Cavan's Apridata wants to simplify data analytics for the ...\", 'Certificate in Data Analytics for Business - Cavan Innovation ...', 'Data Analytics and Software Development - Higher Diploma ...', 'Data analytics and the auditor | ACCA Global', 'Data Science vs. Big Data vs. Data Analytics - Simplilearn', 'Finance 2.0 – How Data Analytics and Warehousing is ...', 'Data Science and Analytics | University College Cork', 'Data Analytics and Technologies Workshop', 'Business Intelligence (BI) & Data Analytics Platform', 'Primark hiring Data Analytics Specialist in County Dublin ...', 'Azure Data Analytics and Machine Learning Bootcamp ...', 'Three challenges to effective data analytics use in insurance ...', 'Computer Science - Data Science - Courses - Trinity College ...', 'Master of Science in Data Analytics - AIT', 'Azure Data Analytics and Machine Learning Bootcamp and ...', 'What is Data Analytics? | Introduction to Data Analysis | Edureka', 'Big Data Analytics Salary | PayScale', 'Diploma in Data Analytics - Evening Course - Fitzwilliam ...', \"Analytics | Accenture's Graduate Programme 2020\", '5 reasons why you should use an open-source data analytics ...', \"What's The Difference Between Data Analytics And Data ...\", 'COMP47350 Data Analytics (Conversion) - University College ...', 'What is Data Analytics - Understanding Big Data Analytics', 'Irish Data Analytics Salary Survey 2020 - Prosperity', 'Securiport partners with University of Notre Dame in ...', 'Data Analytics Predictions for 2020 - The Altair Blog', \"Suplari: Businesses want 'procurement-focused approach to ...\", 'Council Post: From Data To Decision: Data Analytics Will ...', 'Accelerate digital transformation with data analytics', 'SoftServe attains Data Analytics Specialization in Google ...', 'Wise Practitioner – Predictive Analytics Interview Series ...', 'Python Developer (Big Data Analytics) | eFinancialCareers', 'VP, Data Architect, Group Consumer Banking and Big Data ...', 'Unlocking Data Silos to Reach the Promised Land of Smart ...', \"Here's an affordable way to break into the data analysis field\", 'How Data Analytics Can Drive Innovation - Knowledge ...', 'An Integrated Data Analytics Platform | Marine ... - Frontiers', 'Data analytics examples: An inside look at 6 success stories ...', 'Critical success factors in agritech – opportunity for Big Data ...', 'Literature Review on Big Data Analytics Methods | IntechOpen', \"McDonald's Corporation Sr Director - Data Analytics Hub ...\", 'Research Engineer in Visual Data Analytics | ADAPT: The ...', 'SoftServe Achieves Data Analytics in Google Cloud Partner ...', 'Prof Tomas Ward delivers inaugural lecture as AIB ... - DCU', 'Top Big Data Analytics Companies in Ireland - 2020 Reviews ...', 'Data Analytics (Machine Learning) - course information', 'How Fitness Analytics Can Help Your Fitness Business - Glofox', '1st National Workshop - Smart Farming and Data Analytics in ...', 'Big Data Analytics | IBM', 'Data analytics and the bottom line – are you ready to capitalize?', 'Services | Applied Data Analytics - Sidero', 'People Analytics | Factsheets | CIPD - CIPD Ireland', 'Data & Analytics - Solutions Development Lead | Morgan ...', 'Big Data: What it is and why it matters | SAS Ireland', 'Big Data and Big Data Analytics | Dell Technologies United ...', 'Data Analytics | Black & Veatch', 'Business Analytics - DIT', 'A look at the biggest data analytics trends for 2019', 'New Data Analytics Service: BDO Eaton Square and The ...', 'Ground Breaking New Data & Data Analytics Course in LIT ...', 'About Us - CeADAR', 'Prof Tomas Ward delivers inaugural lecture as AIB Chair in ...']\n",
      "['https://independentcolleges.ie/courses/management-diploma-in-data-analytics-for-business/', 'https://towardsdatascience.com/top-6-data-analytics-tools-in-2019-4df815ebf82c', 'https://www.lotame.com/what-is-data-analytics/', 'https://www.datsciawards.com/blog/top-data-analytics-trends-and-predictions-for-2020/', 'https://www.cpaireland.ie/CPD/Further-Learning-Courses/Diploma-in-Data-Analytics', 'https://www.irishjobs.ie/Data-Analytics-Jobs', 'https://techcrunch.com/2020/01/22/placer-ai-a-location-data-analytics-startup-raises-12-million-series-a/', 'https://www.siliconrepublic.com/careers/data-analytics-career-soft-skills-ey', 'https://www.investopedia.com/terms/d/data-analytics.asp', 'https://lit.ie/courses/LC414', 'https://www.analyticsinstitute.org/', 'https://www.ictskillnet.ie/?training-category=data-analytics', 'https://searchdatamanagement.techtarget.com/definition/data-analytics', 'https://www.dbs.ie/about-dbs/news-and-events/2020/01/13/data-analytics-vs-business-analytics', 'https://trigraph.ie/data-analytics-ultimate-guide/', 'https://www.insight-centre.org/', 'https://www.cct.ie/course/diploma-in-data-analytics-for-business-springboard/', 'https://www.ncirl.ie/Courses/Course-Details/course/PGDDA', 'https://www.prostrategy.ie/data-analytics-events/', 'https://tudublin.ie/study/undergraduate/courses/computing-with-data-analytics-tu862/', 'https://web.actuaries.ie/events/2019/09/application-data-analytics-insurance', 'https://execjobs.irishtimes.com/job/11029/head-of-business-intelligence-and-data-analytics/', 'https://www.irishtimes.com/news/ireland/irish-news/data-analytics-firm-boxever-and-ryanair-sign-multimillion-contract-1.3862736', 'https://springboardcourses.ie/details/7026', 'https://www.mastersindatascience.org/resources/what-is-data-analytics/', 'https://gradireland.com/careers-advice/job-descriptions/data-analyst', 'https://www.zenithtechnologies.com/data-analytics/', 'https://www.bearingpoint.com/en-ie/our-expertise/capabilities/technology/data-analytics/', 'https://www.pr360.ie/insightsfeed/data-analytics-benefits-for-sports-clubs-athletes', 'https://www.dkit.ie/courses/school-of-business-and-humanities/business-studies/certificate-in-data-analytics-for-business.html', 'https://www.engineersireland.ie/EngineersIreland/media/SiteMedia/groups/Divisions/electrical-electronic/Data-Analytics-presentation-29-08-2019-Jennifer-Jennings.pdf?ext=.pdf', 'https://www.nuigalway.ie/courses/taught-postgraduate-courses/msc-in-computer-science-data-analytics.html', 'https://biztechmagazine.com/article/2020/01/data-analytics-living-hype', 'https://www.wit.ie/courses/certificate-in-data-analytics-postgraduate', 'https://iob.ie/programme/data-analytics', 'https://fora.ie/apridata-cavan-4845845-Oct2019/', 'https://www.cavanitc.ie/certificate-data-analytics-business/', 'https://www.ul.ie/gps/data-analytics-and-software-development-higher-diploma', 'https://www.accaglobal.com/in/en/student/exam-support-resources/professional-exams-study-resources/p7/technical-articles/data-analytics.html', 'https://www.simplilearn.com/data-science-vs-big-data-vs-data-analytics-article', 'https://irishtechnews.ie/finance-2-0-how-data-analytics-and-warehousing-is-innovating-finance-and-the-accounting-practice-wednesday-23rd-october/', 'https://www.ucc.ie/en/ck411/', 'https://www.charteredaccountants.ie/professional-development/specialist-qualifications/leadership', 'https://looker.com/', 'https://ie.linkedin.com/jobs/view/data-analytics-specialist-at-primark-1422259415', 'https://spanishpoint.ie/events/azure-data-analytics-and-machine-learning/', 'https://www.propertycasualty360.com/2020/01/28/three-challenges-to-effective-data-analytics-use-in-insurance/', 'https://www.tcd.ie/courses/postgraduate/az/course.php?id=DPTCS-DASC-1F09', 'https://www.ait.ie/uploads/prospectus/Level_9_-_MSc_in_Data_Analytics.pdf', 'https://www.eventbrite.ie/e/azure-data-analytics-and-machine-learning-bootcamp-and-training-23rd-of-january-tickets-86906621043', 'https://www.edureka.co/blog/what-is-data-analytics/', 'https://www.payscale.com/research/IE/Skill=Big_Data_Analytics/Salary', 'https://www.fitzwilliaminstitute.ie/part-time-courses/data-analytics/data_analytics_courses_dublin_evening_diploma/', 'https://www.accenture.com/ie-en/careers/local/ireland-graduates-analytics', 'https://hub.packtpub.com/5-reasons-why-you-should-use-an-open-source-data-analytics-stack-in-2020/', 'https://www.getsmarter.com/blog/career-advice/difference-data-analytics-data-analysis/', 'http://www.ucd.ie/modules/COMP47350', 'https://intellipaat.com/blog/what-is-data-analytics/', 'https://www.prosperity.ie/salary-survey/data-analytics-salaries-ireland', 'https://www.biometricupdate.com/202001/securiport-partners-with-university-of-notre-dame-in-biometrics-and-data-analytics-research-for-border-security', 'https://blog.altair.com/data-analytics-predictions-for-2020/', 'https://spendmatters.com/2020/01/27/qa-with-suplari-businesses-want-a-more-procurement-focused-approach-to-data-analytics/', 'https://www.forbes.com/sites/forbesrealestatecouncil/2020/01/28/from-data-to-decision-data-analytics-will-drive-real-estate-transactions-in-the-future/', 'https://www.analyticsinsight.net/accelerate-digital-transformation-with-data-analytics/', 'https://www.helpnetsecurity.com/2020/01/28/softserve-google-cloud/', 'https://www.predictiveanalyticsworld.com/machinelearningtimes/wise-practitioner-predictive-analytics-interview-series-kumaran-ponnambalam-at-cisco/10838/', 'https://www.efinancialcareers.com/jobs-Switzerland-Zurich-Python_Developer_Big_Data_Analytics.id07116418', 'https://www.efinancialcareers.co.uk/jobs-Singapore-Singapore-VP_Data_Architect_Group_Consumer_Banking_and_Big_Data_Analytics_Technology_Technology_and_Operations.id07101293', 'https://flextrade.com/unlocking-data-silos-to-reach-the-promised-land-of-smart-data-analytics/', 'https://mashable.com/shopping/jan-26-data-analytics-training/', 'https://knowledge.wharton.upenn.edu/article/data-analytics-innovation/', 'https://www.frontiersin.org/articles/10.3389/fmars.2019.00354/full', 'https://www.cio.com/article/3221621/6-data-analytics-success-stories-an-inside-look.html', 'https://irishadvantage.com/critical-success-factors-in-agritech-opportunity-for-big-data-analytics/', 'https://www.intechopen.com/online-first/literature-review-on-big-data-analytics-methods', 'https://jobs.smartrecruiters.com/McDonaldsCorporation/743999703686658-sr-director-data-analytics-hub', 'https://www.adaptcentre.ie/about/jobs/research-engineer-in-visual-data-analytics', 'https://www.aithority.com/computing/softserve-achieves-data-analytics-specialization-in-google-cloud-partner-program/', 'https://www.dcu.ie/news/news/2019/Mar/Prof-Tomas-Ward-delivers-inaugural-lecture-AIB-Chair-Data-Analytics.shtml', 'https://clutch.co/ie/it-services/analytics', 'https://www.it-tallaght.ie/index.cfm/page/course?code=TA_KACOD_B', 'https://www.glofox.com/blog/fitness-analytics/', 'http://www.cs.nuim.ie/~pmooney/sfdai2019/', 'https://www.ibm.com/analytics/hadoop/big-data-analytics', 'https://www.ey.com/en_ie/big-data-analytics/data-analytics-and-the-bottom-line-are-you-ready-to-capitalize', 'https://www.sidero.ie/datanalytics.html', 'https://www.cipd.ie/news-resources/practical-guidance/factsheets/people-analytics', 'https://www.morganmckinley.ie/job-details/data-analytics-solutions-development-lead/1021510', 'https://www.sas.com/en_ie/insights/big-data/what-is-big-data.html', 'https://www.delltechnologies.com/en-gb/big-data/index.htm', 'https://www.bv.com/analytics', 'https://www.dit.ie/media/collegeofbusiness/Analytics%20Career%20Brochure.pdf', 'https://www.information-age.com/data-analytics-trends-2019-123481163/', 'https://www.bdo.ie/en-gb/news/2019/new-data-analytics-service-bdo-eaton-square-and-the-information-lab', 'http://tippfm.com/podcasts/ground-breaking-new-data-data-analytics-course-lit-thurles/', 'http://www.ceadar.ie/about-us/', 'http://www.engineersjournal.ie/2019/03/14/prof-tomas-ward-delivers-inaugural-lecture-as-aib-chair-in-data-analytics/']\n",
      "['Dec 19, 2019 - Independent College Dublin is now enrolling for our Management Diploma in Data Analytics for Business. Starting on February 12th, this 8 week Diploma is run\\xa0...', 'Sep 23, 2019 - When it comes to data analytics tools, we always have questions. What is the difference between so many data analysis tools? Which is better? Which one\\xa0...', 'Sep 23, 2019 - The term data analytics refers to the process of examining datasets to draw conclusions about the information they contain to extract valuable insights.', 'Jun 20, 2019 - Top Data Analytics Trends And Predictions For 2020. Industries and organizations are being greatly transformed by data and analysis.', 'Jun 22, 2019 - This course will provide a high-level understanding of the main concepts associated with data analytics and how decision makers use analytics to formulate and support them in solving business problems and communicating that analysis to a management team. Method: 5 full days & final assessment.', 'Jan 24, 2020 - Tags: Data Analyst – Data Analytics My Dublin city centre client is looking to expand their team and are looking for a number of Data Analyst to join and help improve the approach of the analytically team. You will be required to understand new data largely by yourself and provide critical analysis of the data.', 'Jan 22, 2020 - Placer.ai, a startup that analyzes location and foot traffic analytics for retailers and other businesses, announced today that it has closed a $12 million Series A.', \"Jun 13, 2019 - We spoke to EY's Eoin O'Reilly to find out more about how the data analytics role has changed in recent years.\", 'Apr 27, 2019 - Data analytics is the science of analyzing raw data in order to make conclusions about that information. Many of the techniques and processes of data analytics\\xa0...', 'Dec 14, 2019 - The aim of the programme is to produce graduates with an in-depth knowledge of the critical aspects of Data Analytics and Information Security. Learners...', \"Jan 28, 2020 - Ireland's professional membership organisation, supporting the Data Science and Analytics Industry with events and training.\", 'Jun 27, 2019 - ICT Skillnet run a full range of Data Analytics Courses. From short courses all the way up to Masters programmes. Explore our latest training courses here.', 'Jul 31, 2019 - This definition explains the meaning of data analytics, the process for analyzing sets of data to guide business decisions and test scientific theories.', 'Jan 13, 2020 - Differentiating between Business and Data Analytics.', \"May 26, 2019 - Data analytics is fast becoming the must-have organisational and career skill. But what is it and how can you not be left behind? Here's a guide to help.\", 'Dec 12, 2019 - Insight Business. Visit our business team and read industry case studies. Insight & Research. Research informed by our vision: Enabling Citizens. Smarter\\xa0...', 'May 20, 2019 - The Diploma in Data Analytics for Business is designed to develop knowledge, skills and competence in Data Analytics via Springboard+ for 2019.', 'Nov 5, 2019 - This course aims to produce technically competent, innovative graduates that will become leading practitioners in the field of data analytics. Upon completion\\xa0...', \"Jan 30, 2019 - Data Analytics Events - Register for one of our many Data Analytics and FPM Analytics Events and Webinar Series. Hear our Customers' Success Stories.\", 'Aug 23, 2019 - Computing with Data Analytics / Ríomhaireacht le hAnailísíocht Sonraí. < Back to Search Results. Minimum Entry Requirements?', 'Oct 24, 2019 - Senior life actuary in the Actuarial Services Group, Data Analytics Proposition Lead. A member of the Data Analytics Subcommittee of the Society of Actuaries in\\xa0...', 'Jan 24, 2020 - Head of Business Intelligence and Data Analytics in Department Head, Executive & Management with National Transport Authority. Apply Today.', 'Apr 17, 2019 - Irish data analytics company Boxever has signed a “significant” five-year contract with Ryanair, thought to be worth a multimillion figure to the technology\\xa0...', 'May 24, 2019 - The Diploma in Data Analytics for Business is designed for learners seeking to develop their knowledge, skills and competence in the area of Data Analytics.', 'May 16, 2019 - Sometimes mistaken and interchanged with data science, data analytics approaches the value of data in a different way. Learn more on what is data analytics!', 'Oct 19, 2019 - Alternative job titles for this role Data scientist Data analytics officer Digital analytics officer Introduction.', 'Jun 27, 2019 - Data Analytics is a diverse field with wide ranging topics from visualizations and trending, to predictive analytics and artificial intelligence...', \"Feb 11, 2019 - BearingPoint Data 'n' Analytics helps clients use data, analytics and technology to unlock business value and leverage untapped potential.\", \"Oct 17, 2019 - Behind every great team and every great club… there's data analytics.\", 'Jan 19, 2020 - Learn how to utilise data for operational and strategic decision making in business with this 1-year accredited part-time courses delivered for free via\\xa0...', 'Aug 29, 2019 - What is big data analytics? Value of. Analytics (€). Complexity. What. Happened? Descriptive. Analytics. Why did it happen? What will happen? How can we\\xa0...', 'Nov 14, 2019 - There is an acute global shortage of talent and expertise in Data Analytics and Data Science. Due to the strong demand for these graduates and the leading\\xa0...', 'Jan 8, 2020 - It would be unusual to read a business-oriented article, magazine or website these days without seeing the word “data.” Talk of Big Data and analytics has\\xa0...', 'Oct 20, 2019 - Postgraduate CertificateCertificate in Data Analytics (Postgraduate). Delivery: Springboard; Level: 9; Campus: Cork Road; Duration: 1 year; Closing: 20 Dec 19\\xa0...', 'Sep 2, 2019 - Examine current practice pertaining to data and analytics in a financial services enterprise or unit and recommend enhancements in design and skills base to\\xa0...', 'Oct 14, 2019 - Founder: Richard Stafford Elevator pitch: data analytics for mid-sized distribution businesses. Status: customers in Ireland and preparing an international push', 'Nov 12, 2019 - Level 7 Certificate in Data Analytics for Business held in Cavan! Course Summary This 1-semester part-time course will enable candidates to utilise data for\\xa0...', 'May 22, 2019 - The Higher Diploma in Data Analytics and Software Development course is a fulltime programme for graduates of engineering or related technology disciplines,\\xa0...', 'Aug 6, 2019 - This article provides some insight into the matters which need to be considered by auditors when using data analytics. The Advanced Audit and Assurance\\xa0...', 'Jan 22, 2020 - This article talks about what is Big Data, what is Data Analytics, and what is Data Science. What are they? Where are they used? and Skills required to become a\\xa0...', 'Oct 8, 2019 - Finance 2.0 – How Data Analytics and Warehousing is Innovating Finance and the Accounting Practice,. geralt / Pixabay. When and where is it on? This event\\xa0...', 'Oct 10, 2019 - Data Science & Analytics focuses on new ways to capture and understand data from the world around us. It helps us make better decisions for people,\\xa0...', 'Apr 1, 2019 - Working with the Digital Transformation team in Deloitte, we have developed this Data Analytics and Technologies Workshop to enable you to explore and learn\\xa0...', 'Jul 2, 2019 - Looker is a business intelligence software and big data analytics platform that helps you explore, analyze and share real-time business analytics easily.', \"Aug 8, 2019 - Posted 4 months ago. Data Analytics Specialist At Primark, our work spans over 11 countries, and we're still growing…See this and similar jobs on LinkedIn.\", 'Jan 20, 2020 - This one day Bootcamp and Training will be presented by one of our Senior Data Analytics & Machine learning experts. After the Bootcamp you will receive a\\xa0...', 'Jan 28, 2020 - By actively overcoming barriers the industry will be better prepared to embark on the next frontier of data and analytics.', 'Oct 7, 2019 - Data Science Strand Modules: Michaelmas Term (Sept-Dec) • Machine Learning • Data Analytics • Research Methods and Innovation • Scalable Computing', 'Aug 10, 2019 - The analysis of big data is opening up huge opportunities for graduates. Data Analytics is the process of examining vast quantities of data, often referred to as\\xa0...', 'Dec 21, 2019 - Eventbrite - Spanish Point Technologies presents Azure Data Analytics and Machine Learning Bootcamp and Training 23rd of January - Thursday, 23 January\\xa0...', 'Nov 27, 2019 - This article on What is Data Analytics will help you cover the fundamentals of analytics, its different tools and the career path for the same.', 'Jan 7, 2020 - Big Data Analytics - Salary - Get a free salary comparison based on job title, skills, experience and education. Accurate, reliable salary and compensation\\xa0...', \"Mar 2, 2019 - Fitzwilliam Institute's Part-time Evening Diploma in Data Analytics is one of the most successful data analytics courses in Ireland. Delivered interactively by\\xa0...\", \"Oct 31, 2019 - We're looking for the data scientists of tomorrow. We have a strong Analytics practice in Ireland, working across a wide range of functions; including customer\\xa0...\", \"Jan 28, 2020 - When it comes to data analytics, there are a wealth of proprietary platforms out there. But don't ignore open-source software - it could give you a competitive\\xa0...\", 'Jan 23, 2020 - In this video, Norah Wulff, Head Tutor on the UCT Data Analysis online short course explains the difference between data analysis and data analytics.', 'Oct 20, 2019 - COMP47350 Data Analytics (Conversion). Academic Year 2019/2020. This is a core module on the MSc. Computer Science (Conversion) and Higher Diploma\\xa0...', 'Jun 8, 2019 - What is Data Analytics - Get to know about its definition & meaning, types of data analytics, various tools used in data analytics, difference between data\\xa0...', 'Jun 4, 2019 - Data Analytics Salaries in Ireland 2020. ... Big Data Engineer, 40 - 50k, 50 - 55k, 55 - 70k. Business Intelligence Analyst, 40 - 50k, 50 - 60k, 65k +. CRM Data\\xa0...', 'Jan 27, 2020 - The new partnership will research next generation technology to support biometric and data analytics efforts to identify and fend off border security threats.', 'Jan 28, 2020 - Data analytics solutions give companies the tools to make smarter, more calculated decisions to enhance their business. As we start 2020, there are three\\xa0...', \"Jan 27, 2020 - Spend analytics these days offer an array of insights into the data that's increasingly being collected, but it's not easy for businesses to know which solution to\\xa0...\", 'Jan 28, 2020 - Investment in data infrastructure, networks and analytics will be the competitive advantage for CRE professionals for years to come.', 'Jan 28, 2020 - It is no wonder then that data and analytics shared the top spot in the 2019 CIO Tech Poll study for the biggest expected budget increase over the year (47%)\\xa0...', 'Jan 27, 2020 - SoftServe, a leading digital authority and consulting company, has achieved the Data Analytics Specialization in the Google Cloud Premier Partner Program.', 'Jan 27, 2020 - In anticipation of his upcoming conference presentation at Predictive Analytics World for Business Las Vegas, May 31-June 4, 2020, we asked Kumaran\\xa0...', 'Jan 28, 2020 - Experis Switzerland, Zurich, Zurich, Switzerland job: Apply for Python Developer (Big Data Analytics) in Experis Switzerland, Zurich, Zurich, Switzerland.', 'Jan 28, 2020 - DBS Bank Limited, Singapore, Singapore, Singapore job: Apply for VP, Data Architect, Group Consumer Banking and Big Data Analytics Technology,\\xa0...', 'Jan 27, 2020 - In the report, titled “Smart Data Analytics Set to Play Key Role in Reducing Buy Side and Sell Side Trading Costs,” GreySpark predicts that smart data inputs and\\xa0...', 'Jan 26, 2020 - TL;DR: Evolve your data interpretation skills with the Data Analytics Expert Certification Bundle for $49, a 98% savings. Somehow, while we were all laughing at\\xa0...', 'Sep 17, 2019 - New Wharton research examines whether decentralized or centralized organizations are better at using data analytics to innovate.', 'Jul 2, 2019 - An Integrated Science Data Analytics Platform is an environment that enables the confluence of resources for scientific investigation. It harmonizes data, tools\\xa0...', 'Aug 29, 2019 - Leading CIOs are successfully tapping data analytics and machine learning to achieve business goals.', 'May 1, 2019 - Enable real-time data collection: Farmers need to be able to accurately collect and store ... The importance of Big Data Analytics (BDA) in the agritech sector.', 'Oct 25, 2019 - Big data analytics supports organizations in innovation, productivity, and competition [16]. Big data analytics has been defined as techniques that are deployed\\xa0...', 'Dec 11, 2019 - Our Analytics Strategy and Support team is looking to hire an Analytics Translator to bridge the gap between our data scientists and managers. Responsibilities\\xa0...', 'Jan 14, 2020 - Dahyot) and will work alongside the best and brightest talent in language technologies, content analytics, data analytics, adaptivity, personalisation,\\xa0...', 'Jan 27, 2020 - SoftServe, a leading digital authority and consulting company, has achieved the Data Analytics Specialization in the Google Cloud Premier Partner Program.', 'Mar 6, 2019 - In his inaugural lecture as AIB Chair in Data Analytics at Dublin City University this week (Tuesday, March 5th), Professor Tomás Ward outlined how research in\\xa0...', 'Jan 13, 2020 - Detailed client reviews of the leading Ireland big data analytics companies. Hire the best business intelligence consultant in Ireland.', 'Jun 24, 2019 - Bachelor of Science (Hons) in Computing with Data Analytics ... Machine Learning, Deep Learning and Data Analysis skills are in short supply as businesses\\xa0...', 'Nov 25, 2019 - Highly data-driven organizations are three times ... Data analytics and forecasting have become\\xa0...', 'Jun 12, 2019 - This is where the 1st National Workshop on Smart Farming and Data Analytics in Ireland (SFDAI) comes into focus. The two primary goals of the workshop are to\\xa0...', 'Apr 12, 2019 - Big data analytics is the use of advanced analytic techniques against very large, diverse data sets that include structured, semi-structured and unstructured data,\\xa0...', \"Aug 24, 2019 - To be successful, it's important to view analytics as a strategy and operational issue, not just a technology issue.\", 'Mar 2, 2019 - Harnessing the locked in value of data is a challenge for enterprises as the volume and complexity of that data increases. The application of machine learning\\xa0...', 'Feb 20, 2019 - People analytics, also known as HR analytics and workforce analytics, is the use of people-data in analytical processes to solve business problems. People\\xa0...', \"Nov 28, 2019 - This could be the opportunity you've been waiting for.. We have an excellent opening for a (Data & Analytics) Solutions Development Lead with an up and\\xa0...\", 'Oct 31, 2019 - The act of accessing and storing large amounts of information for analytics has been around a long time. But the concept of big data gained momentum in the\\xa0...', 'Jan 25, 2020 - Derive business value from your Big Data with Dell EMC IT Infrastructure and Big Data Analytics. We help you to turn your data into revenue.', 'Oct 18, 2019 - With the increasing number of smart sensors deployed across utilities or industrial assets, data availability is rarely a problem. The promise of analytics is that it\\xa0...', 'May 19, 2019 - What is “Big Data and why is it important? What is Business Analytics? What career will a business Analytics Degree prepare you for? What are the advantages\\xa0...', 'Mar 26, 2019 - As our understanding of data analytics has developed, data analytics is being used in wave of innovative and exciting new ways.', 'Feb 15, 2019 - BDO Eaton Square are delighted to announce a new Data Analytics service line with The Information Lab, which will concentrate on helping organisations move\\xa0...', 'Dec 9, 2019 - Data Analyst and Cyber Security expert in LIT Thurles , Dr Liam Noonan joined Fran Curry on Tipp Today to chat about their new Data & Data Analytics Course', \"Sep 3, 2019 - CeADAR is Ireland's national centre for Applied Data Analytics & AI. CeADAR is a market-focused technology centre that drives the accelerated development,\\xa0...\", 'Mar 14, 2019 - In his recent inaugural lecture as AIB Chair in Data Analytics at Dublin City University, Professor Tomás Ward outlined how research in the area of wearable\\xa0...']\n"
     ]
    }
   ],
   "source": [
    "driver = webdriver.Chrome('chromedriver')\n",
    "google_url = \"https://www.google.com/search?q=\" + query + \"&num=\" + str(number_result) + \"&tbs=cdr:1,cd_min:01/28/2019,cd_max:01/28/2020\"\n",
    "driver.get(google_url)\n",
    "time.sleep(3)\n",
    "\n",
    "soup = BeautifulSoup(driver.page_source,'lxml')\n",
    "result_div = soup.find_all('div', attrs={'class': 'g'})\n",
    "\n",
    "\n",
    "links = []\n",
    "titles = []\n",
    "descriptions = []\n",
    "for r in result_div:\n",
    "    # Checks if each element is present, else, raise exception\n",
    "    try:\n",
    "        link = r.find('a', href=True)\n",
    "        title = None\n",
    "        title = r.find('h3')\n",
    "\n",
    "        if isinstance(title,Tag):\n",
    "            title = title.get_text()\n",
    "\n",
    "        description = None\n",
    "        description = r.find('span', attrs={'class': 'st'})\n",
    "\n",
    "        if isinstance(description, Tag):\n",
    "            description = description.get_text()\n",
    "\n",
    "        # Check to make sure everything is present before appending\n",
    "        if link != '' and title != '' and description != '':\n",
    "            links.append(link['href'])\n",
    "            titles.append(title)\n",
    "            descriptions.append(description)\n",
    "    # Next loop if one element is not present\n",
    "    except Exception as e:\n",
    "        print(e)\n",
    "        continue\n",
    "\n",
    "print(titles)\n",
    "print(links)\n",
    "print(descriptions)"
   ]
  },
  {
   "cell_type": "markdown",
   "metadata": {},
   "source": [
    "# 3. Creating a data frame for the collected data"
   ]
  },
  {
   "cell_type": "code",
   "execution_count": 5,
   "metadata": {},
   "outputs": [
    {
     "data": {
      "text/html": [
       "<div>\n",
       "<style scoped>\n",
       "    .dataframe tbody tr th:only-of-type {\n",
       "        vertical-align: middle;\n",
       "    }\n",
       "\n",
       "    .dataframe tbody tr th {\n",
       "        vertical-align: top;\n",
       "    }\n",
       "\n",
       "    .dataframe thead th {\n",
       "        text-align: right;\n",
       "    }\n",
       "</style>\n",
       "<table border=\"1\" class=\"dataframe\">\n",
       "  <thead>\n",
       "    <tr style=\"text-align: right;\">\n",
       "      <th></th>\n",
       "      <th>Title</th>\n",
       "      <th>URL</th>\n",
       "      <th>Description</th>\n",
       "    </tr>\n",
       "  </thead>\n",
       "  <tbody>\n",
       "    <tr>\n",
       "      <td>0</td>\n",
       "      <td>Management Diploma in Data Analytics for Busin...</td>\n",
       "      <td>https://independentcolleges.ie/courses/managem...</td>\n",
       "      <td>Dec 19, 2019 - Independent College Dublin is n...</td>\n",
       "    </tr>\n",
       "    <tr>\n",
       "      <td>1</td>\n",
       "      <td>Top 6 Data Analytics Tools in 2019 - Towards D...</td>\n",
       "      <td>https://towardsdatascience.com/top-6-data-anal...</td>\n",
       "      <td>Sep 23, 2019 - When it comes to data analytics...</td>\n",
       "    </tr>\n",
       "    <tr>\n",
       "      <td>2</td>\n",
       "      <td>What Is Data Analytics? - 4 Ways to Use Data A...</td>\n",
       "      <td>https://www.lotame.com/what-is-data-analytics/</td>\n",
       "      <td>Sep 23, 2019 - The term data analytics refers ...</td>\n",
       "    </tr>\n",
       "    <tr>\n",
       "      <td>3</td>\n",
       "      <td>Top Data Analytics Trends And Predictions For ...</td>\n",
       "      <td>https://www.datsciawards.com/blog/top-data-ana...</td>\n",
       "      <td>Jun 20, 2019 - Top Data Analytics Trends And P...</td>\n",
       "    </tr>\n",
       "    <tr>\n",
       "      <td>4</td>\n",
       "      <td>Online Diploma in Data Analytics | CPA Ireland...</td>\n",
       "      <td>https://www.cpaireland.ie/CPD/Further-Learning...</td>\n",
       "      <td>Jun 22, 2019 - This course will provide a high...</td>\n",
       "    </tr>\n",
       "    <tr>\n",
       "      <td>...</td>\n",
       "      <td>...</td>\n",
       "      <td>...</td>\n",
       "      <td>...</td>\n",
       "    </tr>\n",
       "    <tr>\n",
       "      <td>92</td>\n",
       "      <td>A look at the biggest data analytics trends fo...</td>\n",
       "      <td>https://www.information-age.com/data-analytics...</td>\n",
       "      <td>Mar 26, 2019 - As our understanding of data an...</td>\n",
       "    </tr>\n",
       "    <tr>\n",
       "      <td>93</td>\n",
       "      <td>New Data Analytics Service: BDO Eaton Square a...</td>\n",
       "      <td>https://www.bdo.ie/en-gb/news/2019/new-data-an...</td>\n",
       "      <td>Feb 15, 2019 - BDO Eaton Square are delighted ...</td>\n",
       "    </tr>\n",
       "    <tr>\n",
       "      <td>94</td>\n",
       "      <td>Ground Breaking New Data &amp; Data Analytics Cour...</td>\n",
       "      <td>http://tippfm.com/podcasts/ground-breaking-new...</td>\n",
       "      <td>Dec 9, 2019 - Data Analyst and Cyber Security ...</td>\n",
       "    </tr>\n",
       "    <tr>\n",
       "      <td>95</td>\n",
       "      <td>About Us - CeADAR</td>\n",
       "      <td>http://www.ceadar.ie/about-us/</td>\n",
       "      <td>Sep 3, 2019 - CeADAR is Ireland's national cen...</td>\n",
       "    </tr>\n",
       "    <tr>\n",
       "      <td>96</td>\n",
       "      <td>Prof Tomas Ward delivers inaugural lecture as ...</td>\n",
       "      <td>http://www.engineersjournal.ie/2019/03/14/prof...</td>\n",
       "      <td>Mar 14, 2019 - In his recent inaugural lecture...</td>\n",
       "    </tr>\n",
       "  </tbody>\n",
       "</table>\n",
       "<p>97 rows × 3 columns</p>\n",
       "</div>"
      ],
      "text/plain": [
       "                                                Title  \\\n",
       "0   Management Diploma in Data Analytics for Busin...   \n",
       "1   Top 6 Data Analytics Tools in 2019 - Towards D...   \n",
       "2   What Is Data Analytics? - 4 Ways to Use Data A...   \n",
       "3   Top Data Analytics Trends And Predictions For ...   \n",
       "4   Online Diploma in Data Analytics | CPA Ireland...   \n",
       "..                                                ...   \n",
       "92  A look at the biggest data analytics trends fo...   \n",
       "93  New Data Analytics Service: BDO Eaton Square a...   \n",
       "94  Ground Breaking New Data & Data Analytics Cour...   \n",
       "95                                  About Us - CeADAR   \n",
       "96  Prof Tomas Ward delivers inaugural lecture as ...   \n",
       "\n",
       "                                                  URL  \\\n",
       "0   https://independentcolleges.ie/courses/managem...   \n",
       "1   https://towardsdatascience.com/top-6-data-anal...   \n",
       "2      https://www.lotame.com/what-is-data-analytics/   \n",
       "3   https://www.datsciawards.com/blog/top-data-ana...   \n",
       "4   https://www.cpaireland.ie/CPD/Further-Learning...   \n",
       "..                                                ...   \n",
       "92  https://www.information-age.com/data-analytics...   \n",
       "93  https://www.bdo.ie/en-gb/news/2019/new-data-an...   \n",
       "94  http://tippfm.com/podcasts/ground-breaking-new...   \n",
       "95                     http://www.ceadar.ie/about-us/   \n",
       "96  http://www.engineersjournal.ie/2019/03/14/prof...   \n",
       "\n",
       "                                          Description  \n",
       "0   Dec 19, 2019 - Independent College Dublin is n...  \n",
       "1   Sep 23, 2019 - When it comes to data analytics...  \n",
       "2   Sep 23, 2019 - The term data analytics refers ...  \n",
       "3   Jun 20, 2019 - Top Data Analytics Trends And P...  \n",
       "4   Jun 22, 2019 - This course will provide a high...  \n",
       "..                                                ...  \n",
       "92  Mar 26, 2019 - As our understanding of data an...  \n",
       "93  Feb 15, 2019 - BDO Eaton Square are delighted ...  \n",
       "94  Dec 9, 2019 - Data Analyst and Cyber Security ...  \n",
       "95  Sep 3, 2019 - CeADAR is Ireland's national cen...  \n",
       "96  Mar 14, 2019 - In his recent inaugural lecture...  \n",
       "\n",
       "[97 rows x 3 columns]"
      ]
     },
     "execution_count": 5,
     "metadata": {},
     "output_type": "execute_result"
    }
   ],
   "source": [
    "import pandas as pd\n",
    "\n",
    "output_dict = {'Title':titles, 'URL': links, 'Description':descriptions}\n",
    "\n",
    "output_df = pd.DataFrame(output_dict, columns = output_dict.keys())\n",
    "\n",
    "output_df"
   ]
  },
  {
   "cell_type": "code",
   "execution_count": 6,
   "metadata": {},
   "outputs": [],
   "source": [
    "# Adding a new column specifing the Searched \"query\"\n",
    "\n",
    "output_df['Brand Name'] = query\n",
    "output_df = output_df[['Brand Name', 'Title', 'URL', 'Description']]"
   ]
  },
  {
   "cell_type": "code",
   "execution_count": 7,
   "metadata": {},
   "outputs": [
    {
     "data": {
      "text/html": [
       "<div>\n",
       "<style scoped>\n",
       "    .dataframe tbody tr th:only-of-type {\n",
       "        vertical-align: middle;\n",
       "    }\n",
       "\n",
       "    .dataframe tbody tr th {\n",
       "        vertical-align: top;\n",
       "    }\n",
       "\n",
       "    .dataframe thead th {\n",
       "        text-align: right;\n",
       "    }\n",
       "</style>\n",
       "<table border=\"1\" class=\"dataframe\">\n",
       "  <thead>\n",
       "    <tr style=\"text-align: right;\">\n",
       "      <th></th>\n",
       "      <th>Brand Name</th>\n",
       "      <th>Title</th>\n",
       "      <th>URL</th>\n",
       "      <th>Description</th>\n",
       "    </tr>\n",
       "  </thead>\n",
       "  <tbody>\n",
       "    <tr>\n",
       "      <td>0</td>\n",
       "      <td>Data Analytics</td>\n",
       "      <td>Management Diploma in Data Analytics for Busin...</td>\n",
       "      <td>https://independentcolleges.ie/courses/managem...</td>\n",
       "      <td>Dec 19, 2019 - Independent College Dublin is n...</td>\n",
       "    </tr>\n",
       "    <tr>\n",
       "      <td>1</td>\n",
       "      <td>Data Analytics</td>\n",
       "      <td>Top 6 Data Analytics Tools in 2019 - Towards D...</td>\n",
       "      <td>https://towardsdatascience.com/top-6-data-anal...</td>\n",
       "      <td>Sep 23, 2019 - When it comes to data analytics...</td>\n",
       "    </tr>\n",
       "    <tr>\n",
       "      <td>2</td>\n",
       "      <td>Data Analytics</td>\n",
       "      <td>What Is Data Analytics? - 4 Ways to Use Data A...</td>\n",
       "      <td>https://www.lotame.com/what-is-data-analytics/</td>\n",
       "      <td>Sep 23, 2019 - The term data analytics refers ...</td>\n",
       "    </tr>\n",
       "    <tr>\n",
       "      <td>3</td>\n",
       "      <td>Data Analytics</td>\n",
       "      <td>Top Data Analytics Trends And Predictions For ...</td>\n",
       "      <td>https://www.datsciawards.com/blog/top-data-ana...</td>\n",
       "      <td>Jun 20, 2019 - Top Data Analytics Trends And P...</td>\n",
       "    </tr>\n",
       "    <tr>\n",
       "      <td>4</td>\n",
       "      <td>Data Analytics</td>\n",
       "      <td>Online Diploma in Data Analytics | CPA Ireland...</td>\n",
       "      <td>https://www.cpaireland.ie/CPD/Further-Learning...</td>\n",
       "      <td>Jun 22, 2019 - This course will provide a high...</td>\n",
       "    </tr>\n",
       "  </tbody>\n",
       "</table>\n",
       "</div>"
      ],
      "text/plain": [
       "       Brand Name                                              Title  \\\n",
       "0  Data Analytics  Management Diploma in Data Analytics for Busin...   \n",
       "1  Data Analytics  Top 6 Data Analytics Tools in 2019 - Towards D...   \n",
       "2  Data Analytics  What Is Data Analytics? - 4 Ways to Use Data A...   \n",
       "3  Data Analytics  Top Data Analytics Trends And Predictions For ...   \n",
       "4  Data Analytics  Online Diploma in Data Analytics | CPA Ireland...   \n",
       "\n",
       "                                                 URL  \\\n",
       "0  https://independentcolleges.ie/courses/managem...   \n",
       "1  https://towardsdatascience.com/top-6-data-anal...   \n",
       "2     https://www.lotame.com/what-is-data-analytics/   \n",
       "3  https://www.datsciawards.com/blog/top-data-ana...   \n",
       "4  https://www.cpaireland.ie/CPD/Further-Learning...   \n",
       "\n",
       "                                         Description  \n",
       "0  Dec 19, 2019 - Independent College Dublin is n...  \n",
       "1  Sep 23, 2019 - When it comes to data analytics...  \n",
       "2  Sep 23, 2019 - The term data analytics refers ...  \n",
       "3  Jun 20, 2019 - Top Data Analytics Trends And P...  \n",
       "4  Jun 22, 2019 - This course will provide a high...  "
      ]
     },
     "execution_count": 7,
     "metadata": {},
     "output_type": "execute_result"
    }
   ],
   "source": [
    "output_df.head()"
   ]
  }
 ],
 "metadata": {
  "kernelspec": {
   "display_name": "Python 3",
   "language": "python",
   "name": "python3"
  },
  "language_info": {
   "codemirror_mode": {
    "name": "ipython",
    "version": 3
   },
   "file_extension": ".py",
   "mimetype": "text/x-python",
   "name": "python",
   "nbconvert_exporter": "python",
   "pygments_lexer": "ipython3",
   "version": "3.7.4"
  }
 },
 "nbformat": 4,
 "nbformat_minor": 2
}
