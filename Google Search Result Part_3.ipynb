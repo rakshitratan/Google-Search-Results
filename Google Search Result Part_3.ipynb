{
 "cells": [
  {
   "cell_type": "markdown",
   "metadata": {},
   "source": [
    "#  Scraping google for:\n",
    "- Title,\n",
    "- URLs,\n",
    "- Descriptions\n",
    "\n",
    "# Performing sentiment analysis on the description part:"
   ]
  },
  {
   "cell_type": "markdown",
   "metadata": {},
   "source": [
    "download the following libraries\n",
    "\n",
    "- for web scraping : pip install bs4 \n",
    "- for accesing URLs : pip install urllib \n",
    "- for repuesting and downloading page content: pip install request \n",
    "- to get rid of non realted articles : pip install fake-useragent \n",
    "- to automate the browser : pip install selenium "
   ]
  },
  {
   "cell_type": "markdown",
   "metadata": {},
   "source": [
    "Libraries for sentiment analysis\n",
    "\n",
    "- for NLP: pip install NLTK\n",
    "- pip install string"
   ]
  },
  {
   "cell_type": "markdown",
   "metadata": {},
   "source": [
    "# Install chrome driver"
   ]
  },
  {
   "cell_type": "markdown",
   "metadata": {},
   "source": [
    "- then go to google chrome contol menu\n",
    "- go to help \n",
    "- about google chrome and check for chrome updates\n",
    "- then go to: \"https://chromedriver.chromium.org/\" and download the chrome driver as per your spesification\n",
    "- then extract the files in the same directory in which you will run the python code"
   ]
  },
  {
   "cell_type": "code",
   "execution_count": 1,
   "metadata": {},
   "outputs": [],
   "source": [
    "from selenium import webdriver # for search automation\n",
    "from bs4 import BeautifulSoup # for scarping webpages\n",
    "import time  \n",
    "from bs4.element import Tag"
   ]
  },
  {
   "cell_type": "markdown",
   "metadata": {},
   "source": [
    "# - Change the text in query below for running different search result "
   ]
  },
  {
   "cell_type": "code",
   "execution_count": 2,
   "metadata": {},
   "outputs": [],
   "source": [
    "query = 'Allianz partner'"
   ]
  },
  {
   "cell_type": "markdown",
   "metadata": {},
   "source": [
    "# 1. Running the query"
   ]
  },
  {
   "cell_type": "code",
   "execution_count": 3,
   "metadata": {},
   "outputs": [],
   "source": [
    "import urllib\n",
    "\n",
    "query = urllib.parse.quote_plus(query) # Format into URL encoding\n",
    "number_result = 100\n",
    "\n",
    "import requests\n",
    "from fake_useragent import UserAgent\n",
    "\n",
    "ua = UserAgent()"
   ]
  },
  {
   "cell_type": "markdown",
   "metadata": {},
   "source": [
    "# 2. Definig the search criteria and values to be collected"
   ]
  },
  {
   "cell_type": "code",
   "execution_count": 4,
   "metadata": {},
   "outputs": [
    {
     "name": "stdout",
     "output_type": "stream",
     "text": [
      "['Ireland - Allianz Partners', 'Allianz Partners - International group corporate website', 'Allianz Partners Reviews | Glassdoor.ie', 'Allianz Partners Jobs and Reviews on Irishjobs.ie', 'Allianz Partners - Allianz Careers', 'What we do - Allianz', 'Allianz Global Assistance Ireland: Allianz Travel Insurance ...', 'About us | What we do and why we do it | Allianz Care', 'Allianz Partners | LinkedIn', 'Allianz | Allianz Partners', 'Allianz Partners Reviews in Dublin, Ireland | Glassdoor', 'Allianz Partners Jobs in Dublin - January 2020 | Indeed.com', 'Allianz Partners USA Careers - About | Facebook', 'Travel Insurance Quotes Ireland - Allianz Insurance', 'Allianz Partners (@AllianzPartners) | Twitter', 'Allianz Partners - YouTube', 'About us | Allianz Partners - Allianz Partners', 'ALLIANZ PARTNERS CAREERS EN | Talent Cloud Media ...', 'Partners - Allianz Global Assistance', 'Allianz partners with Microsoft to digitally transform the ...', 'AGA Portal - Allianz Global Assistance', 'Allianz and Paralympics Ireland Renew Partnership for Rio 2016', 'Our Allianz partner | Previnter', 'Allianz partners with Plastic Surgeon - Coverager', 'Allianz Partners Business Insights', 'Allianz Partners New Zealand', 'Allianz to become Worldwide Olympic Insurance Partner ...', 'Allianz Australia - Partners', 'Hr Business Partner - Allianz Worldwide care - Dublin West ...', 'Allianz - Wikipedia', 'Allianz Business to Arts Awards', 'Allianz Partners reveals senior arrival | Insurance Business', 'Allianz Worldwide Partners and John Paul enter a strategic ...', 'Flywire and Allianz Global Assistance announce partnership ...', 'Allianz Partners | Workplace Wellbeing', 'Our partnerships - Allianz Insurance plc', 'Allianz Partners France', 'Allianz Partners bullish on smart home industry in China ...', \"Allianz Partners on Instagram: “This month's Hero of the Month ...\", 'Allianz Partners – Facilitation Skills Masterclass – dave dunn', 'Allianz Partners | Verint Systems', 'Allianz Partners Home', 'Allianz Care launches new healthcare plans for expat families', 'Imagen Allianz to become Worldwide Paralympic Partner', \"Allianz Partners to 'redefine' brand marketing with hire of ...\", 'Alan Tierney | For over 20 years Alan Tierney & Partners have ...', 'Allianz : Worldwide Partners Changes Name to Allianz ...', 'Allianz Global Assistance: Travel Insurance - Affordable Plans ...', 'Contact Us - Allianz Worldwide Partners Romania', 'Allianz Kicks Off League Sponsorship With New Campaign ...', 'New format boost for Allianz Hurling ... - The Nenagh Guardian', 'www.allianz-partners.design/', 'Allianz Assistance - Seguros de viaje, legales y carretera', 'Wexford Senior Hurling Team Named for Allianz League ...', 'Crowds and viewing figures get Allianz League off to hot start', 'Alliance Pharma', 'Saracens - Together Saracens', 'Allianz: The Company History 1890-2015', 'Munich Re: The Company History 1880-1980', 'un nouveau directeur commercial pour Allianz ... - Assistance', 'Allianz Football League round-up: Conor Turbitt hits 1-6 in ...', 'Hurling League 2020: New faces, familiar priorities - RTE', \"Here's our predictions for this year's Allianz Hurling League ...\", 'Alleviating Poverty Through Profitable Partnerships: ...', 'Allianz Life: Annuities and Life Insurance for Retirement', 'Cyber Security. Simply. Make it Happen.: Leveraging ...', 'Allianz Malaysia | The Leading General & Life Insurance ...', 'Allianz Global Investors | Individual Investors', \"Kilkenny star Cillian Buckley doesn't want VAR in hurling as ...\", 'El Futuro de la Movilidad - Allianz Partners', \"Andy McEntee determined to prove Meath's doubters wrong in ...\", '\"If I didn\\'t improve, I definitely wouldn\\'t have got in anyway ...', \"Sunday's Allianz National Football League ... - Midwest Radio\", 'Senior footballers face Mayo next in FL top-flight - Dublin GAA', 'Galway Footballers Overcome Monaghan on Opening Day Of ...', '\"There\\'s Still A Lot Of Dirty Petrol In The Engine That Needs ...', 'The Dreamers of Allianz', 'Gavi, the Vaccine Alliance', 'Dementia Care: International Perspectives', 'Allianz Login', \"Découvrez la promotion 2020 de l'Accélérateur Allianz | Tribuca\", 'Allianz Global Assistance - Contact Us', 'Allianz promotes Margo Young to Chief Compliance Officer ...', 'Star Alliance', 'General Insurance - Bajaj Allianz', 'PhonePe in insurance with Bajaj Allianz - The Economic Times', 'AllianceBernstein: Home - Investment Management and ...', 'Nice : découvrez la première promotion 2020 de l ...', 'Red Wing Fintech Startup Taps Former Allianz, Periscope ...', 'Our Partners - Bajaj Finserv', 'Allianz Risk Barometer 2020: Business interruption top peril ...', \"Plunkett's Investment And Securities Industry Almanac 2006: ...\", \"The Christy O'Connor column: New GAA rule has yet to make ...\", 'Telefonischer Kundenberater (m/w/d) Vertrieb ...', 'Medienmitteilungen und Pressekit | Übersicht | Allianz', 'Allianz - Slovenská poisťovňa', 'Century of goals at the Allianz Arena Milestone for Müller ...', 'Ferien-Messe Wien: Nexgen begeistert mit smarten Screens ...', 'Ronan McCaughey Archives - Life Insurance International', None]\n",
      "['https://www.allianz-partners.com/en_IE.html', 'https://www.allianz-partners.com/en_US.html', 'https://www.glassdoor.ie/Reviews/Allianz-Partners-Reviews-E497552.htm', 'https://www.irishjobs.ie/Recruiters/Allianz-Partners-2309.aspx', 'https://careers.allianz.com/en_EN/explore-allianz/allianz-global-business-lines/allianz-partners.html', 'https://www.allianz.com/en_GB/about-us/who-we-are/what-we-do.html', 'https://www.allianz-assistance.ie/', 'https://www.allianzcare.com/en/about-us.html', 'https://www.linkedin.com/company/allianz-partners/jobs', 'https://www.allianzworldwidepartners.com/usa', 'https://www.glassdoor.com/Reviews/Allianz-Partners-Dublin-Reviews-EI_IE497552.0,16_IL.17,23_IM1052.htm', 'https://ie.indeed.com/Allianz-Partners-jobs-in-Dublin', 'https://www.facebook.com/AllianzPartnersUSACareers/about/', 'https://www.allianz.ie/travel-insurance/', 'https://twitter.com/allianzpartners?lang=en', 'https://www.youtube.com/channel/UCEV1sco43Jg7vpupWIMsWkw', 'https://www.allianzpartners.com.au/about-us/', 'https://talentcloudm.com/allianz-partners-careers-en/', 'https://www.allianz-assistance.ca/en_CA/partners.html', 'https://news.microsoft.com/2019/11/14/allianz-partners-with-microsoft-to-digitally-transform-the-insurance-industry/', 'https://partners.allianzassistancehealth.com.au/', 'https://www.irishsport.ie/allianz-and-paralympics-ireland-renew-partnership-for-rio-2016/', 'http://www.previnter-mb.com/de/allianz.html', 'https://coverager.com/allianz-partners-with-plastic-surgeon/', 'https://allianzpartners-bi.com/', 'http://www.allianzpartners.co.nz/', 'https://www.olympic.org/news/allianz-to-become-worldwide-olympic-insurance-partner', 'https://www.allianz.com.au/partners/login/', 'https://www.jobalert.ie/job/hr-business-partner-allianz-worldwide-care', 'https://en.wikipedia.org/wiki/Allianz', 'http://www.businesstoarts.ie/awards/', 'https://www.insurancebusinessmag.com/asia/news/breaking-news/allianz-partners-reveals-senior-arrival-175234.aspx', 'https://www.johnpaul.com/allianz-worldwide-partners-and-john-paul-enter-a-strategic-partnership/', 'https://www.flywire.com/es/news/flywire-and-allianz-global-assistance-announce-part', 'https://www.wellbeingday.ie/Sectors/NHF/WWC.nsf/vPages/Activity~allianz-partners-26-03-2019!OpenDocument', 'https://www.allianz.co.uk/about-allianz/partnerships.html', 'https://www.allianz-partners.fr/', 'https://global.chinadaily.com.cn/a/201911/04/WS5dbf8b35a310cf3e355753b8.html', 'https://www.instagram.com/allianzpartners/p/BsfWkD0hdQJ/', 'http://dave.dunn.ie/work/allianz-partners-facilitation-skills-masterclass/', 'https://www.verint.com/engagement/our-story/customer-success/allianz-partners/', 'https://www.allianz-partners.co.uk/', 'https://www.internationalinvestment.net/news/4006604/allianz-care-launches-healthcare-plans-expat-families-living', 'https://www.paralympic.org/news/allianz-become-worldwide-paralympic-partner', 'https://www.thedrum.com/news/2019/10/10/allianz-partners-redefine-brand-marketing-with-hire-virgin-s-james-libor', 'https://alantierney.ie/', 'http://www.4-traders.com/ALLIANZ-436843/news/Allianz-Worldwide-Partners-Changes-Name-to-Allianz-Partners-26917868/?iCStream=1', 'https://www.allianztravelinsurance.com/', 'http://www.allianzworldwidepartners.ro/corporate/contact.aspx', 'https://www.adworld.ie/2020/01/24/allianz-kicks-off-league-sponsorship-with-new-campaign/', 'https://www.nenaghguardian.ie/sport/gaa/articles/2020/01/21/4184665-new-format-boost-for-allianz-hurling-league/', 'http://www.allianz-partners.design/', 'https://www.allianz-assistance.es/', 'http://www.wexfordgaa.ie/2020/01/wexford-senior-hurling-team-named-allianz-league-opener-laois/', 'https://www.irishtimes.com/sport/gaelic-games/crowds-and-viewing-figures-get-allianz-league-off-to-hot-start-1.4153201', 'https://www.alliancepharmaceuticals.com/', 'https://www.saracens.com/', 'https://books.google.ie/books?id=lzznBgAAQBAJ&pg=PT286&lpg=PT286&dq=Allianz+partner&source=bl&ots=eCu2KW5pzP&sig=ACfU3U3E5nwr67wvGUt-za9lkYa_ZQuI8g&hl=en&sa=X&ved=2ahUKEwi7p66x_abnAhW_QRUIHadGArUQ6AEwQ3oECHEQAQ', 'https://books.google.ie/books?id=IxUiDQAAQBAJ&pg=PT252&lpg=PT252&dq=Allianz+partner&source=bl&ots=7G2SstwnmJ&sig=ACfU3U33AnYw4LQfAKelNvdx4LwFbLmg6Q&hl=en&sa=X&ved=2ahUKEwi7p66x_abnAhW_QRUIHadGArUQ6AEwRHoECHAQAQ', 'https://www.argusdelassurance.com/les-assureurs/assistance-un-nouveau-directeur-commercial-pour-allianz-partners-france.159314', 'https://www.independent.ie/sport/gaelic-games/gaelic-football/allianz-football-league-round-up-conor-turbitt-hits-1-6-in-armagh-win-while-cork-see-off-offaly-38895484.html', 'https://www.rte.ie/sport/gaa/2020/0123/1110430-hurling-league-preview-new-faces-familiar-priorities/', 'https://www.irishexaminer.com/breakingnews/sport/gaa/heres-our-predictions-for-this-years-allianz-hurling-league-division-1-976551.html', 'https://books.google.ie/books?id=kuqSAgAAQBAJ&pg=PT228&lpg=PT228&dq=Allianz+partner&source=bl&ots=Dup59p-HGX&sig=ACfU3U3rGoUt4k0Vd0HtF-7wQD1b7lgi5w&hl=en&sa=X&ved=2ahUKEwi7p66x_abnAhW_QRUIHadGArUQ6AEwSXoECGsQAQ', 'https://www.allianzlife.com/', 'https://books.google.ie/books?id=pU_CDgAAQBAJ&pg=PA49&lpg=PA49&dq=Allianz+partner&source=bl&ots=IwLJiMOWE7&sig=ACfU3U3drQeOuT95qjuRRW78Bx4hkSvC2A&hl=en&sa=X&ved=2ahUKEwi7p66x_abnAhW_QRUIHadGArUQ6AEwS3oECGwQAQ', 'https://www.allianz.com.my/', 'https://us.allianzgi.com/', 'https://www.thesun.ie/sport/5026679/kilkenny-cillian-buckley-var-hurling-robotic/', 'https://www.allianz-partners.es/medios-y-prensa/series-predictivas/la-movilidad-del-futuro.html', 'https://www.irishmirror.ie/sport/gaa/gaelic-football/gaelic-football-news/andy-mcentee-determined-prove-meaths-21350028', 'https://www.sportsjoe.ie/gaa/didnt-improve-definitely-wouldnt-got-anyway-209204', 'https://www.midwestradio.ie/index.php/sport/36438-sunday-s-allianz-national-football-league-results', 'https://www.dublingaa.ie/news/senior-footballers-face-mayo-next-in-fl-top-flight', 'https://galwaybayfm.ie/sports/galway-footballers-overcome-monaghan-on-opening-day-of-allianz-national-football-league/', 'https://punditarena.com/gaa/mcorry/dessie-farrell-dublin-kerry-allianz-league/', 'https://books.google.ie/books?id=9_d7wqnpJSoC&pg=PA129&lpg=PA129&dq=Allianz+partner&source=bl&ots=K4Kg_nEEdS&sig=ACfU3U3D4p6MojQrXRJXdz8dMiIt0cZY9w&hl=en&sa=X&ved=2ahUKEwi7p66x_abnAhW_QRUIHadGArUQ6AEwVnoECG0QAQ', 'https://www.gavi.org/', 'https://books.google.ie/books?id=JhGIDwAAQBAJ&pg=PA168&lpg=PA168&dq=Allianz+partner&source=bl&ots=qzJxDl8aEl&sig=ACfU3U2AB1tWWQ-cXaOrTxj0CTO5RQyL0A&hl=en&sa=X&ved=2ahUKEwi7p66x_abnAhW_QRUIHadGArUQ6AEwWHoECG4QAQ', 'https://login.allianz.hu/daui/UI/Login?realm=/internet&goto=https://akp.allianz.hu/', 'https://tribuca.net/entreprises_58797485-decouvrez-la-promotion-2020-de-laccelerateur-allianz', 'https://www.allianz-assistance.dk/en/service-contact/', 'https://www.reinsurancene.ws/allianz-promotes-margo-young-to-chief-compliance-officer/', 'https://www.staralliance.com/en/', 'https://www.bajajallianz.com/general-insurance.html', 'https://m.economictimes.com/small-biz/startups/newsbuzz/phonepe-in-insurance-with-bajaj-allianz/articleshow/73572537.cms', 'https://www.alliancebernstein.com/', 'https://www.webtimemedias.com/article/nice-decouvrez-la-premiere-promotion-2020-de-laccelerateur-allianz', 'https://www.americaninno.com/minne/inno-news-minne/red-wing-fintech-startup-taps-former-allianz-periscope-unitedhealth-execs/', 'https://www.bajajfinserv.in/our-online-partners', 'https://www.insurancechat.co.za/2020-01/allianz-risk-barometer-2020-business-interruption-top-peril-for-companies-in-africa-and-the-middle-east/', 'https://books.google.ie/books?id=hfVRlW3-bgQC&pg=PT471&lpg=PT471&dq=Allianz+partner&source=bl&ots=L9fzPReKiU&sig=ACfU3U2Icb-cChgfbdTeInTnuH0Kdzn0kA&hl=en&sa=X&ved=2ahUKEwi7p66x_abnAhW_QRUIHadGArUQ6AEwZXoECG8QAQ', 'https://www.echolive.ie/corksport/The-Christy-OConnor-column-New-GAA-rule-has-yet-to-make-its-mark--e6762207-6466-431a-984f-67633bb615aa-ds', 'https://stellenmarkt.sueddeutsche.de/jobs/telefonischer-kundenberater-m-w-d-vertrieb-reiseversicherungen-4715316', 'https://www.allianz.ch/de/darum-allianz/medien/medienmitteilungen-pressekit.html', 'https://www.allianzsp.sk/', 'https://fcbayern.com/en/news/2020/01/milestone-for-mueller', 'https://invidis.de/2020/01/ferien-messe-wien-nexgen-begeistert-mit-smarten-screens/', 'https://www.verdict.co.uk/life-insurance-international/byline_author/ronan-mccaughey/', '/maps/uv?hl=en&pb=!1s0x48670cb7a3b74efb:0xc1b0de1924905309!3m1!7e115!4shttps://lh5.googleusercontent.com/p/AF1QipNnBROz4TmEXtuexOGNe_nRx7_5q2o4HKTTc1fG%3Dw213-h160-k-no!5sAllianz+partner+-+Google+Search&imagekey=!1e10!2sAF1QipNnBROz4TmEXtuexOGNe_nRx7_5q2o4HKTTc1fG&sa=X&ved=2ahUKEwi7p66x_abnAhW_QRUIHadGArUQoiowbXoECGAQBg']\n",
      "['Our diverse services all have one thing in common: a dedication to helping and protecting, anytime, anywhere. We go beyond offering traditional insurance and\\xa0...', \"Allianz Partners is one of the world's largest insurance and assistance companies. Find out more about career information, business opportunities and products.\", '6 days ago - 731 Allianz Partners reviews. A free inside look at company reviews and salaries posted anonymously by employees.', 'Keep in touch with the latest jobs, news and reviews for Allianz Partners on irishjobs.ie.', 'At Allianz Partners, we are redefining help. Our teams of innovative experts go beyond offering traditional insurance and assistance products to help and protect\\xa0...', '... health, life and disability insurance, as well as a wide range of health and protection services to private individuals, families, organizations and partners.', 'Allianz Global Assistance. Explore the world with confidence! Our comprehensive insurance and global support network let you travel with peace of mind.', 'As a specialised brand of Allianz Partners, find out who we are, what we do and why Allianz Partners is the leading provider of international health and\\xa0...', 'Learn about working at Allianz Partners. Join LinkedIn today for free. See who you know at Allianz Partners, leverage your professional network, and get hired.', 'Allianz Partners is a global leader in consumer specialty insurance, specializing in travel insurance, event ticketing protection, tuition insurance, and assistance\\xa0...', '6 days ago - 141 Allianz Partners reviews in Dublin, Ireland. A free inside look at company reviews and salaries posted anonymously by employees.', '39 Allianz Partners jobs available in Dublin on Indeed.com, updated hourly.', 'Allianz Partners USA Careers, Richmond, Virginia. 2746 likes · 66 talking about this. Welcome to the official page of Allianz Partners USA Careers...', 'Couple sitting on beach with surf boards ... AWP Assistance Ireland Ltd, trading as Allianz Global Assistance and Allianz Worldwide Partners, may act as an\\xa0...', 'Welcome to @Allianz Partners. As the global #leader in #assistance & #insurance solutions, we are dedicated to bringing worldwide protection and care. Paris\\xa0...', \"Allianz Partners is the world's leading B2B2C specialist, delivering integrated solutions that combine insurance, assistance and technology. Operating under ...\", 'Our passion for assistance is personal. Our founder experienced first-hand the effort required to bring his injured son safely home from overseas, and was\\xa0...', '\"I started working in Allianz Care in 2014 as a Claims officer. From day 1, I was fascinated by the big machine behind that simple claim handling. I remember\\xa0...', 'As the global leader in travel insurance and assistance solutions, Allianz Global ... We are the partner that gives you the advantage of a truly global reach along\\xa0...', 'Nov 14, 2019 - Allianz and Microsoft to reimagine the insurance industry experience with Azure to streamline insurance processes; Microsoft will partner with\\xa0...', 'Not a Partner? If you are interested in working with Allianz Partners, please register your interest below. Register your interest\\xa0...', 'Jul 17, 2013 - Allianz Ireland has extended its official sponsorship of Paralympics Ireland and in so doing, it has became the first official sponsor to support the\\xa0...', 'ALLIANZ is a globally-acknowledged insurer covering all insurance (P&C, health, life), assistance and financial services requirements. The preferred partner of\\xa0...', 'Nov 25, 2019 - Allianz partners with Plastic Surgeon. Allianz Insurance has partnered with Plastic Surgeon , a specialist restoration company that focusses on\\xa0...', 'Allianz Partners Business Insights: Your one-stop destination for business breaking news, multimedia, and opinion papers about protection and care ...', 'Anytime, Anywhere. Our Latest News. About Us. Contact Allianz Partners. Copyright 2020 | AWP Services New Zealand Limited. Allianz Partners Group Website\\xa0...', 'Sep 18, 2018 - Olympic Movement joins forces with Allianz as trusted partner Ambition to use the power of sport to connect with new audiences via digital\\xa0...', 'Would you like to partner with Allianz? Allianz partners with brokers, agents, financial institutions and motor dealers to provide quality insurance products to the\\xa0...', '24th September 2019 - Hr Business Partner - Allianz is the home for those who dare - a supportive place where you can take the initiative to grow and to actively\\xa0...', 'Allianz SE is a European multinational financial services company headquartered in Munich, ... 2012 also saw Allianz partner up with Saracens to be their main shirt sponsor as well as securing an £8m deal for naming rights to their new\\xa0...', 'Apr 5, 2019 - The Awards seek exceptional partnerships in areas such as sponsorship, ... This year marks the 28th anniversary of the Allianz Business to Arts\\xa0...', \"Aug 14, 2019 - Allianz Partners has announced the appointment of Diane Babson (pictured) as chief financial officer for Allianz Care, the company's\\xa0...\", 'Feb 8, 2019 - Allianz Worldwide Partners and John Paul enter a strategic partnership to offer an unrivalled and comprehensive range of services combining\\xa0...', 'Flywire and Allianz Global Assistance today announced a new partnership that mutually benefits higher education institutions and their students by managing\\xa0...', \"Mar 26, 2019 - Company: Allianz Partners. Activities planned for Workplace Wellbeing Day. Morneau Shepell are Allianz Care's new EAP provider.\", 'At Allianz, we build partnerships with organisations that share our values, especially our belief in embracing new ideas and technologies that have a positive\\xa0...', '24h/24, 365 jours par an, Allianz Partners France intervient partout dans le monde pour apporter des solutions adaptées à ses clients entreprises et particuliers.', 'Nov 4, 2019 - The report, released by French company Allianz Partners, a world leader in assistance and insurance solutions, pictured what a smart home\\xa0...', \"Jan 11, 2019 - 57 Likes, 1 Comments - Allianz Partners (@allianzpartners) on Instagram: “This month's Hero of the Month is Brendan Paget from our US office.\", 'CLIENT. Allianz Partners, Organisational Management Team. BRIEF. A half-day introductory workshop to the essentials of facilitating groups and meetings.', 'Allianz Partners has some 800 associates who assist customers with general benefits inquiries, first notice of loss, policy cancellations, and claim status. It uses\\xa0...', 'Allianz Partners UK offers a wide selection of products including Roadside Assistance Automotive warranty, Travel Insurance and much more.', 'Nov 6, 2019 - Allianz Care, the international health brand of Allianz Partners, has announced a suite of private healthcare plans it says is designed to \"meet\\xa0...', 'Sep 18, 2018 - Allianz, a long-term supporter of the International Paralympic Committee (IPC) and the Paralympic Movement, is to become a Worldwide\\xa0...', 'Oct 10, 2019 - Allianz has appointed Virgin marketer James Libor as head of marketing.', 'Alan Tierney and Partners has been providing insurance broking services to our ... We offer an exclusive pub insurance package through Allianz insurance.', 'Jul 13, 2018 - Henrico, Va. , July 12, 2018 - Allianz Worldwide Partners , a leading provider of consumer travel and specialty insurance with its U.S.\\xa0...', 'Get a quote, compare plans and buy Allianz travel insurance online. Trip protection for cancellations, emergency medical & more. Over 34M policies sold.', \"At Allianz Global Assistance, we help people, anytime, anywhere. As the worldwide leader of assistance and travel insurance, we guarantee we'll be there for\\xa0...\", '4 days ago - Building on its longstanding partnership with the GAA, Allianz has also launched a special offer to GAA club members. All GAA club members\\xa0...', 'Jan 21, 2020 - 2020 also marks the 28th year of our sponsorship of the Allianz Leagues and a year where we bring the partnership to life through an exciting\\xa0...', 'No information is available for this page.Learn why', 'Contrata tu seguro de viaje y defensa legal con Allianz Global Assistance, la compañía líder en el sector con los mejores precios y coberturas.', '4 days ago - Wexford Senior Hurling Team Named for Allianz League Opener against ... New Jersey goes on sale in Wexford GAA Official Retail Partner\\xa0...', '13 hours ago - The age-old rivalry is proving as intense as ever in the modern generation.', 'Alliance Pharmaceuticals a leading international healthcare business. An alliance of people, brands and partners working together. One team: achieving more\\xa0...', 'The official website of Saracens Rugby Club, based at Allianz Park in Hendon, north London. Buy tickets, read news, view results & fixtures and shop online.', \"[140] The broker Warnholtz remained Allianz's most important contact in Mexico ... Together with its associated partner Colon, this company, with which Allianz\\xa0...\", \"The Italian partners agreed with Schmitt's suggestion that the new chairman of Elementar-Phönix's board of management be appointed by Allianz. However\\xa0...\", \"1 day ago - Noël Ghanimé, président d'Allianz Partners France, déclare à propos de l'arrivée de Philippe Fassier : « Son expérience, tant en compagnie\\xa0...\", '3 days ago - We and our partners use technologies, such as cookies, and process ... Allianz Football League round-up: Conor Turbitt hits 1-6 in Armagh win\\xa0...', '4 days ago - Allianz Hurling League 2020: New faces, familiar priorities ... to competitive hurling in January a couple of years ago was not widely welcomed.', \"Jan 21, 2020 - Something new: When it's felt like the Cork forward line was a closed shop for the last couple of years the presence of Seán Twomey might\\xa0...\", 'In Chapter 6 we discussed the partnership between insurance MNE Allianz andNGO CARE tooffer micro insuranceinIndia. Evenafterthe global riskmanagement\\xa0...', 'Allianz Life offers annuities to help you prepare for retirement and life insurance to help protect your financial future.', 'The role of the partner network for Allianz is played by the German “Cyber Security Sharing and Analytics” (CSSA) association. Within the CSSA, 12 large\\xa0...', 'Allianz Malaysia offers you protection solutions from A - Z. From customisable plans which you can choose to pay for only what you need, to comprehensive\\xa0...', 'Allianz Global Investors, is a global investment management firm with offices in over 20 locations worldwide and manages assets on behalf of institutional and\\xa0...', \"3 days ago - Cillian Buckley of Kilkenny, Sean McGrath, CEO, Allianz Ireland, Seamus Callanan of Tipperary, William O'Donoghue of Limerick and Conor\\xa0...\", 'Allianz Partners Futurology report - The Future Travel Experience.', \"4 days ago - We and our partners use technologies, such as cookies, and process ... Andy McEntee determined to prove Meath's doubters wrong in Allianz\\xa0...\", \"6 days ago - The exciting programme features 116 games across the four divisions in a campaign which will mark the 28th year of Allianz' partnership with\\xa0...\", '2 days ago - Barry Cassidy has been confirmed as the referee for Mayo and Dublin in round 2 of the Allianz National Football League on Saturday.', '1 day ago - ... including fixtures, results, news, clubs, teams, tickets, partners, and ... Dublin beat Mayo twice last year, winning their Allianz League clash by\\xa0...', '1 day ago - We and our partners use technologies, such as cookies, and process personal data, ... Galway Footballers Overcome Monaghan on Opening Day Of Allianz National ... The Allianz National Football League Division One Table.', '3 days ago - “But we were happy to try some new players out tonight and some fellas who may not have seen much game time over the last couple of years\\xa0...', 'We believe, sir, there may possibly be a couple of small caliber, traditional firearms present among the members, but that is highly variable and mostly hearsay.', 'Gavi draws on the skills of a variety of partners, combining the technical expertise of the development community with the business know-how of the private\\xa0...', \"The Alliance (https://www.allianz-fuer-demenz.de/startseite. ... well as a resolution of commitment of the Alliance partners, including a description of the partners'\\xa0...\", 'Login. User Name: Password: Forgot password. Unauthorized use of the system is forbidden!', \"4 days ago - Lancé il y a cinq ans à Nice, l'accélérateur Allianz France affiche des ... et Allianz France et d'autres entités du groupe comme Allianz Partners.\", 'Allianz Global Assistance. ... or about your policy, please feel free to contact us anytime on info@allianz-assistance.dk ... Allianz Worldwide Partners 2019.', '1 day ago - Global insurer Allianz has promoted Margo Young to the role of Chief Compliance Officer, replacing the recently-retired Ann Alexander. Young\\xa0...', \"Our Connecting Partners extend our network beyond the 1,300 airports currently served by the Alliance's 26 member airlines.\", 'General insurance plans by Bajaj Allianz. One of the leading & award-winning companies offering general insurance in india. Explore health, car, bike, travel\\xa0...', '5 days ago - The digital payments player said on Thursday that more such partnerships with a range of financial companies may be in the offing in the\\xa0...', 'Learn more about how you can partner with us in the Music City. Learn More · Corporate Responsibility Green Growing plant CORPORATE RESPONSIBILITY\\xa0...', \"4 days ago - L'accélérateur d'Allianz France au grand stade de Nice attaque la ... et Allianz France et d'autres entités d'Allianz comme Allianz Partners.\", '5 days ago - Red Wing Fintech Startup Taps Former Allianz, Periscope, UnitedHealth Execs. By. Maddy Kennedy ... Partner Content. Partner Content\\xa0...', 'Shop Online at No Cost EMI – Buy the latest electronics and appliances like smartphones, laptops, led TVs or flight tickets from Flipkart, Amazon, MakeMyTrip,\\xa0...', '14 hours ago - The annual survey on global business risks from Allianz Global Corporate ... decisions from customers, shareholders and business partners.', '... SOCIETE GENERALE OSV Partners; OLD MUTUAL ASSET MANAGEMENT ... FUND INC Pacific Investment Management; ALLIANZ GLOBAL INVESTORS\\xa0...', '6 hours ago - Paul Mannion, of Dublin, calls for a mark during the Allianz Football ... in a couple of games, marks were claimed and signalled by the player,\\xa0...', 'Jan 15, 2020 - Allianz Partners entwickelt maßgeschneiderte Produkte, die sich aus ... dass diese Kunden ihre Versicherung bei Allianz Travel abschließen.', 'In der Geschäftsleitung der Allianz Suisse wird es im nächsten Jahr zu einem Wechsel kommen. Martin Jara, Leiter Distribution, verlässt die Allianz Suisse und\\xa0...', 'Allianz - Slovenská poisťovňa je najväčšia univerzálna poisťovňa na Slovensku. Líder v poskytovaní kvalitných komplexných služieb a produktov.', '3 days ago - Century of goals at the Allianz Arena: Thomas Müller scored his ... Only FCB striker Robert Lewandowski reached the 100-goal mark at the Allianz Arena ... to your interests on our website, social media and partner websites.', '9 hours ago - Die smarten Lösungen am gemeinsamen Stand mit Allianz Partners machten den Messebesuchern eines sofort deutlich: Hier ist die Zukunft\\xa0...', 'Verdict Network. Ronan McCaughey Yorkshire Building Society partners with AIG Life ... Allianz X invests $35m in Indonesian ride-hailing platform. Allianz X, the\\xa0...', None]\n"
     ]
    }
   ],
   "source": [
    "driver = webdriver.Chrome('chromedriver')\n",
    "google_url = \"https://www.google.com/search?q=\" + query + \"&num=\" + str(number_result)\n",
    "driver.get(google_url)\n",
    "time.sleep(3)\n",
    "\n",
    "soup = BeautifulSoup(driver.page_source,'lxml')\n",
    "result_div = soup.find_all('div', attrs={'class': 'g'})\n",
    "\n",
    "\n",
    "links = []\n",
    "titles = []\n",
    "descriptions = []\n",
    "for r in result_div:\n",
    "    # Checks if each element is present, else, raise exception\n",
    "    try:\n",
    "        link = r.find('a', href=True)\n",
    "        title = None\n",
    "        title = r.find('h3')\n",
    "\n",
    "        if isinstance(title,Tag):\n",
    "            title = title.get_text()\n",
    "\n",
    "        description = None\n",
    "        description = r.find('span', attrs={'class': 'st'})\n",
    "\n",
    "        if isinstance(description, Tag):\n",
    "            description = description.get_text()\n",
    "\n",
    "        # Check to make sure everything is present before appending\n",
    "        if link != '' and title != '' and description != '':\n",
    "            links.append(link['href'])\n",
    "            titles.append(title)\n",
    "            descriptions.append(description)\n",
    "    # Next loop if one element is not present\n",
    "    except Exception as e:\n",
    "        print(e)\n",
    "        continue\n",
    "\n",
    "print(titles)\n",
    "print(links)\n",
    "print(descriptions)"
   ]
  },
  {
   "cell_type": "markdown",
   "metadata": {},
   "source": [
    "# 3. Creating a data frame for the collected data"
   ]
  },
  {
   "cell_type": "code",
   "execution_count": 5,
   "metadata": {
    "scrolled": true
   },
   "outputs": [
    {
     "data": {
      "text/html": [
       "<div>\n",
       "<style scoped>\n",
       "    .dataframe tbody tr th:only-of-type {\n",
       "        vertical-align: middle;\n",
       "    }\n",
       "\n",
       "    .dataframe tbody tr th {\n",
       "        vertical-align: top;\n",
       "    }\n",
       "\n",
       "    .dataframe thead th {\n",
       "        text-align: right;\n",
       "    }\n",
       "</style>\n",
       "<table border=\"1\" class=\"dataframe\">\n",
       "  <thead>\n",
       "    <tr style=\"text-align: right;\">\n",
       "      <th></th>\n",
       "      <th>Title</th>\n",
       "      <th>URL</th>\n",
       "      <th>Description</th>\n",
       "    </tr>\n",
       "  </thead>\n",
       "  <tbody>\n",
       "    <tr>\n",
       "      <td>0</td>\n",
       "      <td>Ireland - Allianz Partners</td>\n",
       "      <td>https://www.allianz-partners.com/en_IE.html</td>\n",
       "      <td>Our diverse services all have one thing in com...</td>\n",
       "    </tr>\n",
       "    <tr>\n",
       "      <td>1</td>\n",
       "      <td>Allianz Partners - International group corpora...</td>\n",
       "      <td>https://www.allianz-partners.com/en_US.html</td>\n",
       "      <td>Allianz Partners is one of the world's largest...</td>\n",
       "    </tr>\n",
       "    <tr>\n",
       "      <td>2</td>\n",
       "      <td>Allianz Partners Reviews | Glassdoor.ie</td>\n",
       "      <td>https://www.glassdoor.ie/Reviews/Allianz-Partn...</td>\n",
       "      <td>6 days ago - 731 Allianz Partners reviews. A f...</td>\n",
       "    </tr>\n",
       "    <tr>\n",
       "      <td>3</td>\n",
       "      <td>Allianz Partners Jobs and Reviews on Irishjobs.ie</td>\n",
       "      <td>https://www.irishjobs.ie/Recruiters/Allianz-Pa...</td>\n",
       "      <td>Keep in touch with the latest jobs, news and r...</td>\n",
       "    </tr>\n",
       "    <tr>\n",
       "      <td>4</td>\n",
       "      <td>Allianz Partners - Allianz Careers</td>\n",
       "      <td>https://careers.allianz.com/en_EN/explore-alli...</td>\n",
       "      <td>At Allianz Partners, we are redefining help. O...</td>\n",
       "    </tr>\n",
       "    <tr>\n",
       "      <td>...</td>\n",
       "      <td>...</td>\n",
       "      <td>...</td>\n",
       "      <td>...</td>\n",
       "    </tr>\n",
       "    <tr>\n",
       "      <td>95</td>\n",
       "      <td>Allianz - Slovenská poisťovňa</td>\n",
       "      <td>https://www.allianzsp.sk/</td>\n",
       "      <td>Allianz - Slovenská poisťovňa je najväčšia uni...</td>\n",
       "    </tr>\n",
       "    <tr>\n",
       "      <td>96</td>\n",
       "      <td>Century of goals at the Allianz Arena Mileston...</td>\n",
       "      <td>https://fcbayern.com/en/news/2020/01/milestone...</td>\n",
       "      <td>3 days ago - Century of goals at the Allianz A...</td>\n",
       "    </tr>\n",
       "    <tr>\n",
       "      <td>97</td>\n",
       "      <td>Ferien-Messe Wien: Nexgen begeistert mit smart...</td>\n",
       "      <td>https://invidis.de/2020/01/ferien-messe-wien-n...</td>\n",
       "      <td>9 hours ago - Die smarten Lösungen am gemeinsa...</td>\n",
       "    </tr>\n",
       "    <tr>\n",
       "      <td>98</td>\n",
       "      <td>Ronan McCaughey Archives - Life Insurance Inte...</td>\n",
       "      <td>https://www.verdict.co.uk/life-insurance-inter...</td>\n",
       "      <td>Verdict Network. Ronan McCaughey Yorkshire Bui...</td>\n",
       "    </tr>\n",
       "    <tr>\n",
       "      <td>99</td>\n",
       "      <td>None</td>\n",
       "      <td>/maps/uv?hl=en&amp;pb=!1s0x48670cb7a3b74efb:0xc1b0...</td>\n",
       "      <td>None</td>\n",
       "    </tr>\n",
       "  </tbody>\n",
       "</table>\n",
       "<p>100 rows × 3 columns</p>\n",
       "</div>"
      ],
      "text/plain": [
       "                                                Title  \\\n",
       "0                          Ireland - Allianz Partners   \n",
       "1   Allianz Partners - International group corpora...   \n",
       "2             Allianz Partners Reviews | Glassdoor.ie   \n",
       "3   Allianz Partners Jobs and Reviews on Irishjobs.ie   \n",
       "4                  Allianz Partners - Allianz Careers   \n",
       "..                                                ...   \n",
       "95                      Allianz - Slovenská poisťovňa   \n",
       "96  Century of goals at the Allianz Arena Mileston...   \n",
       "97  Ferien-Messe Wien: Nexgen begeistert mit smart...   \n",
       "98  Ronan McCaughey Archives - Life Insurance Inte...   \n",
       "99                                               None   \n",
       "\n",
       "                                                  URL  \\\n",
       "0         https://www.allianz-partners.com/en_IE.html   \n",
       "1         https://www.allianz-partners.com/en_US.html   \n",
       "2   https://www.glassdoor.ie/Reviews/Allianz-Partn...   \n",
       "3   https://www.irishjobs.ie/Recruiters/Allianz-Pa...   \n",
       "4   https://careers.allianz.com/en_EN/explore-alli...   \n",
       "..                                                ...   \n",
       "95                          https://www.allianzsp.sk/   \n",
       "96  https://fcbayern.com/en/news/2020/01/milestone...   \n",
       "97  https://invidis.de/2020/01/ferien-messe-wien-n...   \n",
       "98  https://www.verdict.co.uk/life-insurance-inter...   \n",
       "99  /maps/uv?hl=en&pb=!1s0x48670cb7a3b74efb:0xc1b0...   \n",
       "\n",
       "                                          Description  \n",
       "0   Our diverse services all have one thing in com...  \n",
       "1   Allianz Partners is one of the world's largest...  \n",
       "2   6 days ago - 731 Allianz Partners reviews. A f...  \n",
       "3   Keep in touch with the latest jobs, news and r...  \n",
       "4   At Allianz Partners, we are redefining help. O...  \n",
       "..                                                ...  \n",
       "95  Allianz - Slovenská poisťovňa je najväčšia uni...  \n",
       "96  3 days ago - Century of goals at the Allianz A...  \n",
       "97  9 hours ago - Die smarten Lösungen am gemeinsa...  \n",
       "98  Verdict Network. Ronan McCaughey Yorkshire Bui...  \n",
       "99                                               None  \n",
       "\n",
       "[100 rows x 3 columns]"
      ]
     },
     "execution_count": 5,
     "metadata": {},
     "output_type": "execute_result"
    }
   ],
   "source": [
    "import pandas as pd\n",
    "\n",
    "output_dict = {'Title':titles, 'URL': links, 'Description':descriptions}\n",
    "\n",
    "output_df = pd.DataFrame(output_dict, columns = output_dict.keys())\n",
    "\n",
    "output_df"
   ]
  },
  {
   "cell_type": "code",
   "execution_count": 6,
   "metadata": {},
   "outputs": [
    {
     "data": {
      "text/plain": [
       "Title          0\n",
       "URL            0\n",
       "Description    0\n",
       "dtype: int64"
      ]
     },
     "execution_count": 6,
     "metadata": {},
     "output_type": "execute_result"
    }
   ],
   "source": [
    "# 4. Checking the Null values and then removing them:\n",
    "\n",
    "output_df=output_df.dropna()\n",
    "output_df.isnull().sum()"
   ]
  },
  {
   "cell_type": "code",
   "execution_count": 7,
   "metadata": {},
   "outputs": [
    {
     "name": "stderr",
     "output_type": "stream",
     "text": [
      "C:\\Users\\ratan\\Anaconda3\\lib\\site-packages\\ipykernel_launcher.py:3: SettingWithCopyWarning: \n",
      "A value is trying to be set on a copy of a slice from a DataFrame.\n",
      "Try using .loc[row_indexer,col_indexer] = value instead\n",
      "\n",
      "See the caveats in the documentation: http://pandas.pydata.org/pandas-docs/stable/user_guide/indexing.html#returning-a-view-versus-a-copy\n",
      "  This is separate from the ipykernel package so we can avoid doing imports until\n"
     ]
    }
   ],
   "source": [
    "# Adding a new column specifing the Searched \"Brand Name\"\n",
    "\n",
    "output_df['Brand Name'] = query\n",
    "output_df = output_df[['Brand Name', 'Title', 'URL', 'Description']]"
   ]
  },
  {
   "cell_type": "code",
   "execution_count": 8,
   "metadata": {},
   "outputs": [
    {
     "data": {
      "text/html": [
       "<div>\n",
       "<style scoped>\n",
       "    .dataframe tbody tr th:only-of-type {\n",
       "        vertical-align: middle;\n",
       "    }\n",
       "\n",
       "    .dataframe tbody tr th {\n",
       "        vertical-align: top;\n",
       "    }\n",
       "\n",
       "    .dataframe thead th {\n",
       "        text-align: right;\n",
       "    }\n",
       "</style>\n",
       "<table border=\"1\" class=\"dataframe\">\n",
       "  <thead>\n",
       "    <tr style=\"text-align: right;\">\n",
       "      <th></th>\n",
       "      <th>Brand Name</th>\n",
       "      <th>Title</th>\n",
       "      <th>URL</th>\n",
       "      <th>Description</th>\n",
       "    </tr>\n",
       "  </thead>\n",
       "  <tbody>\n",
       "    <tr>\n",
       "      <td>0</td>\n",
       "      <td>Allianz+partner</td>\n",
       "      <td>Ireland - Allianz Partners</td>\n",
       "      <td>https://www.allianz-partners.com/en_IE.html</td>\n",
       "      <td>Our diverse services all have one thing in com...</td>\n",
       "    </tr>\n",
       "    <tr>\n",
       "      <td>1</td>\n",
       "      <td>Allianz+partner</td>\n",
       "      <td>Allianz Partners - International group corpora...</td>\n",
       "      <td>https://www.allianz-partners.com/en_US.html</td>\n",
       "      <td>Allianz Partners is one of the world's largest...</td>\n",
       "    </tr>\n",
       "    <tr>\n",
       "      <td>2</td>\n",
       "      <td>Allianz+partner</td>\n",
       "      <td>Allianz Partners Reviews | Glassdoor.ie</td>\n",
       "      <td>https://www.glassdoor.ie/Reviews/Allianz-Partn...</td>\n",
       "      <td>6 days ago - 731 Allianz Partners reviews. A f...</td>\n",
       "    </tr>\n",
       "    <tr>\n",
       "      <td>3</td>\n",
       "      <td>Allianz+partner</td>\n",
       "      <td>Allianz Partners Jobs and Reviews on Irishjobs.ie</td>\n",
       "      <td>https://www.irishjobs.ie/Recruiters/Allianz-Pa...</td>\n",
       "      <td>Keep in touch with the latest jobs, news and r...</td>\n",
       "    </tr>\n",
       "    <tr>\n",
       "      <td>4</td>\n",
       "      <td>Allianz+partner</td>\n",
       "      <td>Allianz Partners - Allianz Careers</td>\n",
       "      <td>https://careers.allianz.com/en_EN/explore-alli...</td>\n",
       "      <td>At Allianz Partners, we are redefining help. O...</td>\n",
       "    </tr>\n",
       "  </tbody>\n",
       "</table>\n",
       "</div>"
      ],
      "text/plain": [
       "        Brand Name                                              Title  \\\n",
       "0  Allianz+partner                         Ireland - Allianz Partners   \n",
       "1  Allianz+partner  Allianz Partners - International group corpora...   \n",
       "2  Allianz+partner            Allianz Partners Reviews | Glassdoor.ie   \n",
       "3  Allianz+partner  Allianz Partners Jobs and Reviews on Irishjobs.ie   \n",
       "4  Allianz+partner                 Allianz Partners - Allianz Careers   \n",
       "\n",
       "                                                 URL  \\\n",
       "0        https://www.allianz-partners.com/en_IE.html   \n",
       "1        https://www.allianz-partners.com/en_US.html   \n",
       "2  https://www.glassdoor.ie/Reviews/Allianz-Partn...   \n",
       "3  https://www.irishjobs.ie/Recruiters/Allianz-Pa...   \n",
       "4  https://careers.allianz.com/en_EN/explore-alli...   \n",
       "\n",
       "                                         Description  \n",
       "0  Our diverse services all have one thing in com...  \n",
       "1  Allianz Partners is one of the world's largest...  \n",
       "2  6 days ago - 731 Allianz Partners reviews. A f...  \n",
       "3  Keep in touch with the latest jobs, news and r...  \n",
       "4  At Allianz Partners, we are redefining help. O...  "
      ]
     },
     "execution_count": 8,
     "metadata": {},
     "output_type": "execute_result"
    }
   ],
   "source": [
    "output_df.head()"
   ]
  },
  {
   "cell_type": "markdown",
   "metadata": {},
   "source": [
    "# 5. Sentiment Analysis:"
   ]
  },
  {
   "cell_type": "code",
   "execution_count": 9,
   "metadata": {},
   "outputs": [],
   "source": [
    "# return the wordnet object value corresponding to the POS tag\n",
    "from nltk.corpus import wordnet\n",
    "\n",
    "def get_wordnet_pos(pos_tag):\n",
    "    if pos_tag.startswith('J'):\n",
    "        return wordnet.ADJ\n",
    "    elif pos_tag.startswith('V'):\n",
    "        return wordnet.VERB\n",
    "    elif pos_tag.startswith('N'):\n",
    "        return wordnet.NOUN\n",
    "    elif pos_tag.startswith('R'):\n",
    "        return wordnet.ADV\n",
    "    else:\n",
    "        return wordnet.NOUN"
   ]
  },
  {
   "cell_type": "code",
   "execution_count": 10,
   "metadata": {},
   "outputs": [],
   "source": [
    "import string\n",
    "from nltk import pos_tag\n",
    "from nltk.corpus import stopwords\n",
    "from nltk.tokenize import WhitespaceTokenizer\n",
    "from nltk.stem import WordNetLemmatizer"
   ]
  },
  {
   "cell_type": "code",
   "execution_count": 11,
   "metadata": {},
   "outputs": [],
   "source": [
    "def clean_text(text):\n",
    "    # lower text\n",
    "    text = text.lower()\n",
    "    # tokenize text and remove puncutation\n",
    "    text = [word.strip(string.punctuation) for word in text.split(\" \")]\n",
    "    # remove words that contain numbers\n",
    "    text = [word for word in text if not any(c.isdigit() for c in word)]\n",
    "    # remove stop words\n",
    "    stop = stopwords.words('english')\n",
    "    text = [x for x in text if x not in stop]\n",
    "    # remove empty tokens\n",
    "    text = [t for t in text if len(t) > 0]\n",
    "    # pos tag text\n",
    "    pos_tags = pos_tag(text)\n",
    "    # lemmatize text\n",
    "    text = [WordNetLemmatizer().lemmatize(t[0], get_wordnet_pos(t[1])) for t in pos_tags]\n",
    "    # remove words with only one letter\n",
    "    text = [t for t in text if len(t) > 1]\n",
    "    # join all\n",
    "    text = \" \".join(text)\n",
    "    return(text)"
   ]
  },
  {
   "cell_type": "code",
   "execution_count": 12,
   "metadata": {
    "scrolled": true
   },
   "outputs": [],
   "source": [
    "# cleaning the text data\n",
    "\n",
    "output_df[\"Description\"] = output_df[\"Description\"].apply(lambda x: clean_text(x))"
   ]
  },
  {
   "cell_type": "code",
   "execution_count": 13,
   "metadata": {},
   "outputs": [],
   "source": [
    "# add sentiment anaylsis columns\n",
    "from nltk.sentiment.vader import SentimentIntensityAnalyzer\n",
    "\n",
    "gett = SentimentIntensityAnalyzer()"
   ]
  },
  {
   "cell_type": "code",
   "execution_count": 14,
   "metadata": {},
   "outputs": [],
   "source": [
    "output_df[\"sentiments\"] = output_df[\"Description\"].apply(lambda x: gett.polarity_scores(x))\n",
    "output_df = pd.concat([output_df.drop(['sentiments'], axis=1), output_df['sentiments'].apply(pd.Series)], axis=1)"
   ]
  },
  {
   "cell_type": "code",
   "execution_count": 15,
   "metadata": {},
   "outputs": [],
   "source": [
    "# add number of characters column\n",
    "output_df[\"number of characters\"] = output_df[\"Description\"].apply(lambda x: len(x))\n",
    "\n",
    "# add number of words column\n",
    "output_df[\"number of words\"] = output_df[\"Description\"].apply(lambda x: len(x.split(\" \")))"
   ]
  },
  {
   "cell_type": "code",
   "execution_count": 16,
   "metadata": {
    "scrolled": true
   },
   "outputs": [
    {
     "data": {
      "text/html": [
       "<div>\n",
       "<style scoped>\n",
       "    .dataframe tbody tr th:only-of-type {\n",
       "        vertical-align: middle;\n",
       "    }\n",
       "\n",
       "    .dataframe tbody tr th {\n",
       "        vertical-align: top;\n",
       "    }\n",
       "\n",
       "    .dataframe thead th {\n",
       "        text-align: right;\n",
       "    }\n",
       "</style>\n",
       "<table border=\"1\" class=\"dataframe\">\n",
       "  <thead>\n",
       "    <tr style=\"text-align: right;\">\n",
       "      <th></th>\n",
       "      <th>Brand Name</th>\n",
       "      <th>Title</th>\n",
       "      <th>URL</th>\n",
       "      <th>Description</th>\n",
       "      <th>neg</th>\n",
       "      <th>neu</th>\n",
       "      <th>pos</th>\n",
       "      <th>compound</th>\n",
       "      <th>number of characters</th>\n",
       "      <th>number of words</th>\n",
       "    </tr>\n",
       "  </thead>\n",
       "  <tbody>\n",
       "    <tr>\n",
       "      <td>0</td>\n",
       "      <td>Allianz+partner</td>\n",
       "      <td>Ireland - Allianz Partners</td>\n",
       "      <td>https://www.allianz-partners.com/en_IE.html</td>\n",
       "      <td>diverse service one thing common dedication he...</td>\n",
       "      <td>0.0</td>\n",
       "      <td>0.725</td>\n",
       "      <td>0.275</td>\n",
       "      <td>0.6486</td>\n",
       "      <td>116</td>\n",
       "      <td>16</td>\n",
       "    </tr>\n",
       "    <tr>\n",
       "      <td>1</td>\n",
       "      <td>Allianz+partner</td>\n",
       "      <td>Allianz Partners - International group corpora...</td>\n",
       "      <td>https://www.allianz-partners.com/en_US.html</td>\n",
       "      <td>allianz partner one world's large insurance as...</td>\n",
       "      <td>0.0</td>\n",
       "      <td>0.823</td>\n",
       "      <td>0.177</td>\n",
       "      <td>0.4215</td>\n",
       "      <td>115</td>\n",
       "      <td>14</td>\n",
       "    </tr>\n",
       "    <tr>\n",
       "      <td>2</td>\n",
       "      <td>Allianz+partner</td>\n",
       "      <td>Allianz Partners Reviews | Glassdoor.ie</td>\n",
       "      <td>https://www.glassdoor.ie/Reviews/Allianz-Partn...</td>\n",
       "      <td>day ago allianz partner review free inside loo...</td>\n",
       "      <td>0.0</td>\n",
       "      <td>0.798</td>\n",
       "      <td>0.202</td>\n",
       "      <td>0.5106</td>\n",
       "      <td>95</td>\n",
       "      <td>14</td>\n",
       "    </tr>\n",
       "    <tr>\n",
       "      <td>3</td>\n",
       "      <td>Allianz+partner</td>\n",
       "      <td>Allianz Partners Jobs and Reviews on Irishjobs.ie</td>\n",
       "      <td>https://www.irishjobs.ie/Recruiters/Allianz-Pa...</td>\n",
       "      <td>keep touch late job news review allianz partne...</td>\n",
       "      <td>0.0</td>\n",
       "      <td>1.000</td>\n",
       "      <td>0.000</td>\n",
       "      <td>0.0000</td>\n",
       "      <td>60</td>\n",
       "      <td>9</td>\n",
       "    </tr>\n",
       "    <tr>\n",
       "      <td>4</td>\n",
       "      <td>Allianz+partner</td>\n",
       "      <td>Allianz Partners - Allianz Careers</td>\n",
       "      <td>https://careers.allianz.com/en_EN/explore-alli...</td>\n",
       "      <td>allianz partner redefine help team innovative ...</td>\n",
       "      <td>0.0</td>\n",
       "      <td>0.524</td>\n",
       "      <td>0.476</td>\n",
       "      <td>0.8720</td>\n",
       "      <td>123</td>\n",
       "      <td>16</td>\n",
       "    </tr>\n",
       "  </tbody>\n",
       "</table>\n",
       "</div>"
      ],
      "text/plain": [
       "        Brand Name                                              Title  \\\n",
       "0  Allianz+partner                         Ireland - Allianz Partners   \n",
       "1  Allianz+partner  Allianz Partners - International group corpora...   \n",
       "2  Allianz+partner            Allianz Partners Reviews | Glassdoor.ie   \n",
       "3  Allianz+partner  Allianz Partners Jobs and Reviews on Irishjobs.ie   \n",
       "4  Allianz+partner                 Allianz Partners - Allianz Careers   \n",
       "\n",
       "                                                 URL  \\\n",
       "0        https://www.allianz-partners.com/en_IE.html   \n",
       "1        https://www.allianz-partners.com/en_US.html   \n",
       "2  https://www.glassdoor.ie/Reviews/Allianz-Partn...   \n",
       "3  https://www.irishjobs.ie/Recruiters/Allianz-Pa...   \n",
       "4  https://careers.allianz.com/en_EN/explore-alli...   \n",
       "\n",
       "                                         Description  neg    neu    pos  \\\n",
       "0  diverse service one thing common dedication he...  0.0  0.725  0.275   \n",
       "1  allianz partner one world's large insurance as...  0.0  0.823  0.177   \n",
       "2  day ago allianz partner review free inside loo...  0.0  0.798  0.202   \n",
       "3  keep touch late job news review allianz partne...  0.0  1.000  0.000   \n",
       "4  allianz partner redefine help team innovative ...  0.0  0.524  0.476   \n",
       "\n",
       "   compound  number of characters  number of words  \n",
       "0    0.6486                   116               16  \n",
       "1    0.4215                   115               14  \n",
       "2    0.5106                    95               14  \n",
       "3    0.0000                    60                9  \n",
       "4    0.8720                   123               16  "
      ]
     },
     "execution_count": 16,
     "metadata": {},
     "output_type": "execute_result"
    }
   ],
   "source": [
    "output_df.head()"
   ]
  }
 ],
 "metadata": {
  "kernelspec": {
   "display_name": "Python 3",
   "language": "python",
   "name": "python3"
  },
  "language_info": {
   "codemirror_mode": {
    "name": "ipython",
    "version": 3
   },
   "file_extension": ".py",
   "mimetype": "text/x-python",
   "name": "python",
   "nbconvert_exporter": "python",
   "pygments_lexer": "ipython3",
   "version": "3.7.4"
  }
 },
 "nbformat": 4,
 "nbformat_minor": 2
}
